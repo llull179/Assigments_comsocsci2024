{
 "cells": [
  {
   "cell_type": "markdown",
   "metadata": {},
   "source": [
    "# Assignment 1\n",
    "GitHub repository: https://github.com/llull179/Assigments_comsocsci2024.git"
   ]
  },
  {
   "cell_type": "code",
   "execution_count": 1,
   "metadata": {},
   "outputs": [],
   "source": [
    "from joblib import Parallel, delayed\n",
    "import joblib\n",
    "from joblib import Parallel, delayed\n",
    "import requests\n",
    "import pandas as pd\n",
    "from bs4 import BeautifulSoup\n",
    "import matplotlib.pyplot as plt\n",
    "import os\n",
    "import numpy as np\n",
    "import ast\n",
    "import networkx as nx"
   ]
  },
  {
   "cell_type": "code",
   "execution_count": 2,
   "metadata": {},
   "outputs": [],
   "source": [
    "def readData():\n",
    "    try:\n",
    "        authors = pd.read_csv('data/authors.csv')\n",
    "    except:\n",
    "        print('Not found authors.csv')\n",
    "        authors = None\n",
    "    try:\n",
    "        papers = pd.read_csv('data/papers.csv')\n",
    "    except:\n",
    "        print('Not found papers.csv')\n",
    "        papers = None\n",
    "    try:\n",
    "        abstracts = pd.read_csv('data/abstracts.csv')\n",
    "    except:\n",
    "        print('Not found abstracts.csv')\n",
    "        abstracts = None\n",
    "    return authors, papers, abstracts "
   ]
  },
  {
   "cell_type": "markdown",
   "metadata": {},
   "source": [
    "## Part I - Obtain authors"
   ]
  },
  {
   "cell_type": "code",
   "execution_count": 7,
   "metadata": {},
   "outputs": [],
   "source": [
    "def getSoup(url, base_url = \"https://ic2s2-2023.org\"):\n",
    "    COMPLETE_LINK = base_url+url\n",
    "    r = requests.get(COMPLETE_LINK)\n",
    "    return BeautifulSoup(r.content)"
   ]
  },
  {
   "cell_type": "code",
   "execution_count": 4,
   "metadata": {},
   "outputs": [],
   "source": [
    "soup = getSoup(\"/program\")\n",
    "sect = soup.find_all(\"section\", attrs = {\"id\": \"main\"})\n",
    "authorsList = set()\n",
    "\n",
    "for sect in sect:\n",
    "    for ul in sect.find_all('ul'):\n",
    "        for li in ul.find_all('li'):\n",
    "            authors = li.find(\"i\")\n",
    "            authors = authors.text.split(\",\")\n",
    "            authors = [author.strip() for author in authors]\n",
    "            authorsList.update(authors)"
   ]
  },
  {
   "cell_type": "code",
   "execution_count": 5,
   "metadata": {},
   "outputs": [],
   "source": [
    "sect = soup.find_all(\"section\", attrs = {\"id\": \"main\"})\n",
    "for sect in sect:\n",
    "    for h2 in sect.find_all('h2'):\n",
    "        if \"Chair\" in h2.text:\n",
    "            author = h2.text.split(\"Chair:\")[1].strip()\n",
    "            authorsList.add(author)"
   ]
  },
  {
   "cell_type": "code",
   "execution_count": 6,
   "metadata": {},
   "outputs": [],
   "source": [
    "# Optional: get the program committee\n",
    "soup = getSoup(\"/program_committee\")\n",
    "sect = soup.find_all(\"section\", attrs = {\"id\": \"main\"})\n",
    "for li in sect[0].find_all('li'):\n",
    "    authors = li.find(\"b\")\n",
    "    authorsList.update(authors)\n"
   ]
  },
  {
   "cell_type": "code",
   "execution_count": 7,
   "metadata": {},
   "outputs": [],
   "source": [
    "# Optional: get the tutorials teachers\n",
    "soup = getSoup(\"/tutorials\")\n",
    "sect = soup.find_all(\"section\", attrs = {\"id\": \"highlights\"})\n",
    "sect = sect[1].find_all(\"div\",attrs = {\"class\":\"container\"})[0]\n",
    "for ul in sect.find_all('ul'):\n",
    "    for b in ul.find_all('b'):\n",
    "        for a in b.find_all('a'):\n",
    "            author = a.text    \n",
    "            authorsList.add(author)"
   ]
  },
  {
   "cell_type": "code",
   "execution_count": 8,
   "metadata": {},
   "outputs": [],
   "source": [
    "# check the accurate of name\n",
    "for i in authorsList:\n",
    "    if ' ' not in i:\n",
    "        break;\n",
    "authorsList.remove(i)\n",
    "df = pd.DataFrame(authorsList, columns =[\"Name\"] )"
   ]
  },
  {
   "cell_type": "code",
   "execution_count": 9,
   "metadata": {},
   "outputs": [],
   "source": [
    "# with open('data/authorsList.txt', 'w') as file:\n",
    "#     for author in authorsList:\n",
    "#         file.write(author + '\\\\n')\n",
    "df.to_csv('data/authorsList.txt', header = False, index = False)"
   ]
  },
  {
   "cell_type": "markdown",
   "metadata": {},
   "source": [
    "**5. How many unique researchers do you get?**"
   ]
  },
  {
   "cell_type": "code",
   "execution_count": 10,
   "metadata": {},
   "outputs": [
    {
     "name": "stdout",
     "output_type": "stream",
     "text": [
      "There is a total of 1648 researchers.\n"
     ]
    }
   ],
   "source": [
    "print(\"There is a total of\", len(authorsList), \"researchers.\")"
   ]
  },
  {
   "cell_type": "markdown",
   "metadata": {},
   "source": [
    "**6. Explain the process you followed to web-scrape the page. Which choices did you make to accurately retreive as many names as possible? Which strategies did you use to assess the quality of your final list? Explain your reasoning and your choices __(answer in max 150 words)__.**"
   ]
  },
  {
   "cell_type": "markdown",
   "metadata": {},
   "source": [
    "Considering the structure of the webpage, we scraped each page specifically containing names sepeartely, identified the distinct tags to precisely extract the researcher names, and integrated them subsequently, ensuring we could get as many names as possible. To enhance the list quality, we utilized a set to store the names and avoid the duplicates. Additionly, we check the accuracy of the collected names by confirming that each name is complete with both first and family names."
   ]
  },
  {
   "cell_type": "markdown",
   "metadata": {},
   "source": [
    "## Part II"
   ]
  },
  {
   "cell_type": "markdown",
   "metadata": {},
   "source": [
    "**> 1. What are pros and cons of the custom-made data used in Centola's experiment (the first study presented in the lecture) and the ready-made data used in Nicolaides's study (the second study presented in the lecture)? You can support your arguments based on the content of the lecture and the information you read in Chapter 2.3 of the book __(answer in max 150 words)__.**"
   ]
  },
  {
   "cell_type": "markdown",
   "metadata": {},
   "source": [
    "The custom-made data can make study result more targeted and detailed since researchers can create and control the experiment process directly, and sample can be controlled, ensuring the revelent between the collected informination and analysis. However, this comes with a high cost to maintain and the sample size is limited. Additionlly, many bias such as non-response bias may arise.\n",
    "\n",
    "The ready-made data can offers a large sample size and has a time effiency based on the real world condition. But it is hard to access and researchers have limited control for the expirement degin, hence The informination may be incompleted or unrealted, and ethical and privacy issues also need to further consider."
   ]
  },
  {
   "cell_type": "markdown",
   "metadata": {},
   "source": [
    "**2. How do you think these differences can influence the interpretation of the results in each study? __(answer in max 150 words)__**"
   ]
  },
  {
   "cell_type": "markdown",
   "metadata": {},
   "source": [
    "Two types of data may introduce different bias to study results, custom-made data may influence the data collection, while the ready-made data may introduce bias to the researchers. Morever, when handling custom-data, the data limitation and robutness are need to be considered. And researchers should assess the quailty of the data, and undertake additional process to clean the data when working with ready-made data."
   ]
  },
  {
   "cell_type": "markdown",
   "metadata": {},
   "source": [
    "## Part III - Obtain author from OpenAlex"
   ]
  },
  {
   "cell_type": "code",
   "execution_count": 58,
   "metadata": {},
   "outputs": [],
   "source": [
    "def defineURL(type):\n",
    "    BASE_URL = 'https://api.openalex.org/'\n",
    "    return BASE_URL + type"
   ]
  },
  {
   "cell_type": "code",
   "execution_count": 59,
   "metadata": {
    "scrolled": true
   },
   "outputs": [
    {
     "name": "stdout",
     "output_type": "stream",
     "text": [
      "['Sander van der Linden', 'Anne C. Kroon', 'Emma Spiro', 'Antonio Bucchiarone', 'Ke Li']\n"
     ]
    }
   ],
   "source": [
    "with open('data/authorsList.txt', 'r', encoding = 'utf-8') as file:\n",
    "    authors_list = file.read().splitlines()\n",
    "\n",
    "print(authors_list[0:5])"
   ]
  },
  {
   "cell_type": "code",
   "execution_count": 60,
   "metadata": {},
   "outputs": [
    {
     "name": "stdout",
     "output_type": "stream",
     "text": [
      "36756\n"
     ]
    }
   ],
   "source": [
    "def fetch_results_authors(initial_author):\n",
    "    URL_W = defineURL('authors')\n",
    "    selected_vars = 'id,display_name,works_count,works_api_url,summary_stats,last_known_institution'\n",
    "    i = 1\n",
    "    def_results = []\n",
    "    finish = False\n",
    "    while not finish:\n",
    "        response = requests.get(URL_W, params={'filter': 'display_name.search:(' + '|'.join(authors_list[initial_author:initial_author+20]) + ')',\n",
    "                                               'select': selected_vars, 'per-page': '200', 'page': str(i)})\n",
    "        if response.status_code != 200:\n",
    "            print('Error at page ' + str(i), 'for authors ' + str(initial_author) + ' to ' + str(initial_author+20), 'and status code ' + str(response.status_code))\n",
    "            i += 1\n",
    "        else:\n",
    "            response = response.json()\n",
    "            if len(response['results']) == 0:\n",
    "                finish = True\n",
    "                break\n",
    "            def_results += response['results']\n",
    "            i += 1\n",
    "    return def_results\n",
    "\n",
    "initial_authors_range = range(0, len(authors_list), 20)\n",
    "\n",
    "results = Parallel(n_jobs=-1)(delayed(fetch_results_authors)(initial_author) for initial_author in initial_authors_range)\n",
    "def_results_authors = [result for sublist in results for result in sublist]\n",
    "\n",
    "for resp in def_results_authors:\n",
    "    try:\n",
    "        resp['country_code'] = resp['last_known_institution']['country_code']\n",
    "    except:\n",
    "        resp['country_code'] = np.nan\n",
    "    try:\n",
    "        resp['h_index'] = resp['summary_stats']['h_index']\n",
    "    except:\n",
    "        resp['h_index'] = 0\n",
    "\n",
    "\n",
    "print(len(def_results_authors))\n"
   ]
  },
  {
   "cell_type": "code",
   "execution_count": 61,
   "metadata": {},
   "outputs": [
    {
     "data": {
      "text/html": [
       "<div>\n",
       "<style scoped>\n",
       "    .dataframe tbody tr th:only-of-type {\n",
       "        vertical-align: middle;\n",
       "    }\n",
       "\n",
       "    .dataframe tbody tr th {\n",
       "        vertical-align: top;\n",
       "    }\n",
       "\n",
       "    .dataframe thead th {\n",
       "        text-align: right;\n",
       "    }\n",
       "</style>\n",
       "<table border=\"1\" class=\"dataframe\">\n",
       "  <thead>\n",
       "    <tr style=\"text-align: right;\">\n",
       "      <th></th>\n",
       "      <th>id</th>\n",
       "      <th>display_name</th>\n",
       "      <th>works_count</th>\n",
       "      <th>works_api_url</th>\n",
       "      <th>h_index</th>\n",
       "      <th>country_code</th>\n",
       "    </tr>\n",
       "  </thead>\n",
       "  <tbody>\n",
       "    <tr>\n",
       "      <th>18935</th>\n",
       "      <td>https://openalex.org/A5090177789</td>\n",
       "      <td>Jonathan Allen Green</td>\n",
       "      <td>2</td>\n",
       "      <td>https://api.openalex.org/works?filter=author.i...</td>\n",
       "      <td>1</td>\n",
       "      <td>CA</td>\n",
       "    </tr>\n",
       "    <tr>\n",
       "      <th>29766</th>\n",
       "      <td>https://openalex.org/A5088346617</td>\n",
       "      <td>Rong Hui Wang</td>\n",
       "      <td>9</td>\n",
       "      <td>https://api.openalex.org/works?filter=author.i...</td>\n",
       "      <td>2</td>\n",
       "      <td>CN</td>\n",
       "    </tr>\n",
       "    <tr>\n",
       "      <th>5539</th>\n",
       "      <td>https://openalex.org/A5093329780</td>\n",
       "      <td>Tim Faverjon</td>\n",
       "      <td>1</td>\n",
       "      <td>https://api.openalex.org/works?filter=author.i...</td>\n",
       "      <td>0</td>\n",
       "      <td>FR</td>\n",
       "    </tr>\n",
       "    <tr>\n",
       "      <th>32864</th>\n",
       "      <td>https://openalex.org/A5092599183</td>\n",
       "      <td>David De Rothschild</td>\n",
       "      <td>1</td>\n",
       "      <td>https://api.openalex.org/works?filter=author.i...</td>\n",
       "      <td>0</td>\n",
       "      <td>NaN</td>\n",
       "    </tr>\n",
       "    <tr>\n",
       "      <th>17098</th>\n",
       "      <td>https://openalex.org/A5025619270</td>\n",
       "      <td>David Mínguez García</td>\n",
       "      <td>1</td>\n",
       "      <td>https://api.openalex.org/works?filter=author.i...</td>\n",
       "      <td>0</td>\n",
       "      <td>NaN</td>\n",
       "    </tr>\n",
       "    <tr>\n",
       "      <th>4863</th>\n",
       "      <td>https://openalex.org/A5056300177</td>\n",
       "      <td>Marcelo A. de A. e Silva</td>\n",
       "      <td>1</td>\n",
       "      <td>https://api.openalex.org/works?filter=author.i...</td>\n",
       "      <td>1</td>\n",
       "      <td>BR</td>\n",
       "    </tr>\n",
       "    <tr>\n",
       "      <th>18375</th>\n",
       "      <td>https://openalex.org/A5047256827</td>\n",
       "      <td>Mário Castro Soares</td>\n",
       "      <td>1</td>\n",
       "      <td>https://api.openalex.org/works?filter=author.i...</td>\n",
       "      <td>0</td>\n",
       "      <td>NaN</td>\n",
       "    </tr>\n",
       "    <tr>\n",
       "      <th>26818</th>\n",
       "      <td>https://openalex.org/A5006476009</td>\n",
       "      <td>Qin Li</td>\n",
       "      <td>1</td>\n",
       "      <td>https://api.openalex.org/works?filter=author.i...</td>\n",
       "      <td>1</td>\n",
       "      <td>CN</td>\n",
       "    </tr>\n",
       "    <tr>\n",
       "      <th>22403</th>\n",
       "      <td>https://openalex.org/A5078872459</td>\n",
       "      <td>Ángel Sánchez-Trancón</td>\n",
       "      <td>1</td>\n",
       "      <td>https://api.openalex.org/works?filter=author.i...</td>\n",
       "      <td>0</td>\n",
       "      <td>NaN</td>\n",
       "    </tr>\n",
       "    <tr>\n",
       "      <th>2837</th>\n",
       "      <td>https://openalex.org/A5062215053</td>\n",
       "      <td>Xiao xian Zhang</td>\n",
       "      <td>1</td>\n",
       "      <td>https://api.openalex.org/works?filter=author.i...</td>\n",
       "      <td>1</td>\n",
       "      <td>CN</td>\n",
       "    </tr>\n",
       "  </tbody>\n",
       "</table>\n",
       "</div>"
      ],
      "text/plain": [
       "                                     id              display_name  \\\n",
       "18935  https://openalex.org/A5090177789      Jonathan Allen Green   \n",
       "29766  https://openalex.org/A5088346617             Rong Hui Wang   \n",
       "5539   https://openalex.org/A5093329780              Tim Faverjon   \n",
       "32864  https://openalex.org/A5092599183       David De Rothschild   \n",
       "17098  https://openalex.org/A5025619270      David Mínguez García   \n",
       "4863   https://openalex.org/A5056300177  Marcelo A. de A. e Silva   \n",
       "18375  https://openalex.org/A5047256827       Mário Castro Soares   \n",
       "26818  https://openalex.org/A5006476009                    Qin Li   \n",
       "22403  https://openalex.org/A5078872459     Ángel Sánchez-Trancón   \n",
       "2837   https://openalex.org/A5062215053           Xiao xian Zhang   \n",
       "\n",
       "       works_count                                      works_api_url  \\\n",
       "18935            2  https://api.openalex.org/works?filter=author.i...   \n",
       "29766            9  https://api.openalex.org/works?filter=author.i...   \n",
       "5539             1  https://api.openalex.org/works?filter=author.i...   \n",
       "32864            1  https://api.openalex.org/works?filter=author.i...   \n",
       "17098            1  https://api.openalex.org/works?filter=author.i...   \n",
       "4863             1  https://api.openalex.org/works?filter=author.i...   \n",
       "18375            1  https://api.openalex.org/works?filter=author.i...   \n",
       "26818            1  https://api.openalex.org/works?filter=author.i...   \n",
       "22403            1  https://api.openalex.org/works?filter=author.i...   \n",
       "2837             1  https://api.openalex.org/works?filter=author.i...   \n",
       "\n",
       "       h_index country_code  \n",
       "18935        1           CA  \n",
       "29766        2           CN  \n",
       "5539         0           FR  \n",
       "32864        0          NaN  \n",
       "17098        0          NaN  \n",
       "4863         1           BR  \n",
       "18375        0          NaN  \n",
       "26818        1           CN  \n",
       "22403        0          NaN  \n",
       "2837         1           CN  "
      ]
     },
     "execution_count": 61,
     "metadata": {},
     "output_type": "execute_result"
    }
   ],
   "source": [
    "authors = pd.DataFrame(def_results_authors, columns = ['id', 'display_name', 'works_count', 'works_api_url','h_index','country_code'])\n",
    "authors.sample(10)"
   ]
  },
  {
   "cell_type": "markdown",
   "metadata": {},
   "source": [
    "#### Let's delte repited authors\n",
    "- We first delete all the repited id. (Not necessary any ordering because all the rows are exactly the same)\n",
    "- Later we delete all the repited display_name. (We order by h_index and delete the lowest one)"
   ]
  },
  {
   "cell_type": "code",
   "execution_count": 62,
   "metadata": {},
   "outputs": [],
   "source": [
    "authors = authors.drop_duplicates(subset = 'id')"
   ]
  },
  {
   "cell_type": "code",
   "execution_count": 63,
   "metadata": {},
   "outputs": [
    {
     "data": {
      "text/html": [
       "<div>\n",
       "<style scoped>\n",
       "    .dataframe tbody tr th:only-of-type {\n",
       "        vertical-align: middle;\n",
       "    }\n",
       "\n",
       "    .dataframe tbody tr th {\n",
       "        vertical-align: top;\n",
       "    }\n",
       "\n",
       "    .dataframe thead th {\n",
       "        text-align: right;\n",
       "    }\n",
       "</style>\n",
       "<table border=\"1\" class=\"dataframe\">\n",
       "  <thead>\n",
       "    <tr style=\"text-align: right;\">\n",
       "      <th></th>\n",
       "      <th>id</th>\n",
       "      <th>display_name</th>\n",
       "      <th>works_count</th>\n",
       "      <th>works_api_url</th>\n",
       "      <th>h_index</th>\n",
       "      <th>country_code</th>\n",
       "    </tr>\n",
       "  </thead>\n",
       "  <tbody>\n",
       "    <tr>\n",
       "      <th>19337</th>\n",
       "      <td>https://openalex.org/A5035872740</td>\n",
       "      <td>A Lee Edward</td>\n",
       "      <td>3</td>\n",
       "      <td>https://api.openalex.org/works?filter=author.i...</td>\n",
       "      <td>0</td>\n",
       "      <td>NaN</td>\n",
       "    </tr>\n",
       "    <tr>\n",
       "      <th>19335</th>\n",
       "      <td>https://openalex.org/A5085785026</td>\n",
       "      <td>A Lee Edward</td>\n",
       "      <td>1</td>\n",
       "      <td>https://api.openalex.org/works?filter=author.i...</td>\n",
       "      <td>0</td>\n",
       "      <td>NaN</td>\n",
       "    </tr>\n",
       "    <tr>\n",
       "      <th>34246</th>\n",
       "      <td>https://openalex.org/A5040705130</td>\n",
       "      <td>A.-M. Cohen-Jonathan</td>\n",
       "      <td>2</td>\n",
       "      <td>https://api.openalex.org/works?filter=author.i...</td>\n",
       "      <td>2</td>\n",
       "      <td>FR</td>\n",
       "    </tr>\n",
       "    <tr>\n",
       "      <th>34532</th>\n",
       "      <td>https://openalex.org/A5070416321</td>\n",
       "      <td>A.-M. Cohen-Jonathan</td>\n",
       "      <td>1</td>\n",
       "      <td>https://api.openalex.org/works?filter=author.i...</td>\n",
       "      <td>0</td>\n",
       "      <td>NaN</td>\n",
       "    </tr>\n",
       "    <tr>\n",
       "      <th>6263</th>\n",
       "      <td>https://openalex.org/A5065690741</td>\n",
       "      <td>AI Xue-lin</td>\n",
       "      <td>1</td>\n",
       "      <td>https://api.openalex.org/works?filter=author.i...</td>\n",
       "      <td>0</td>\n",
       "      <td>NaN</td>\n",
       "    </tr>\n",
       "    <tr>\n",
       "      <th>6318</th>\n",
       "      <td>https://openalex.org/A5014271391</td>\n",
       "      <td>AI Xue-lin</td>\n",
       "      <td>1</td>\n",
       "      <td>https://api.openalex.org/works?filter=author.i...</td>\n",
       "      <td>0</td>\n",
       "      <td>NaN</td>\n",
       "    </tr>\n",
       "  </tbody>\n",
       "</table>\n",
       "</div>"
      ],
      "text/plain": [
       "                                     id          display_name  works_count  \\\n",
       "19337  https://openalex.org/A5035872740          A Lee Edward            3   \n",
       "19335  https://openalex.org/A5085785026          A Lee Edward            1   \n",
       "34246  https://openalex.org/A5040705130  A.-M. Cohen-Jonathan            2   \n",
       "34532  https://openalex.org/A5070416321  A.-M. Cohen-Jonathan            1   \n",
       "6263   https://openalex.org/A5065690741            AI Xue-lin            1   \n",
       "6318   https://openalex.org/A5014271391            AI Xue-lin            1   \n",
       "\n",
       "                                           works_api_url  h_index country_code  \n",
       "19337  https://api.openalex.org/works?filter=author.i...        0          NaN  \n",
       "19335  https://api.openalex.org/works?filter=author.i...        0          NaN  \n",
       "34246  https://api.openalex.org/works?filter=author.i...        2           FR  \n",
       "34532  https://api.openalex.org/works?filter=author.i...        0          NaN  \n",
       "6263   https://api.openalex.org/works?filter=author.i...        0          NaN  \n",
       "6318   https://api.openalex.org/works?filter=author.i...        0          NaN  "
      ]
     },
     "execution_count": 63,
     "metadata": {},
     "output_type": "execute_result"
    }
   ],
   "source": [
    "authors[authors.display_name.duplicated(keep=False)].sort_values(by='display_name').head(6)"
   ]
  },
  {
   "cell_type": "code",
   "execution_count": 64,
   "metadata": {},
   "outputs": [],
   "source": [
    "authors = authors.sort_values(by='h_index', ascending=False).drop_duplicates(subset ='display_name',keep='first')"
   ]
  },
  {
   "cell_type": "code",
   "execution_count": 92,
   "metadata": {},
   "outputs": [],
   "source": [
    "strange_carachters = ['\\*','&','%','\\[','\\]','\\{','\\}','<','>','\\/','@','\\^','~','`',':',';','\\.','\\!','\\?','\"','#','\\$','\\=','\\+']\n",
    "numbers = ['0','1','2','3','4','5','6','7','8','9']\n",
    "for char in strange_carachters+numbers:\n",
    "    # print(char, authors_cop.shape[0])\n",
    "    authors = authors[~authors['display_name'].str.contains(char)]\n"
   ]
  },
  {
   "cell_type": "code",
   "execution_count": 93,
   "metadata": {},
   "outputs": [
    {
     "data": {
      "text/html": [
       "<div>\n",
       "<style scoped>\n",
       "    .dataframe tbody tr th:only-of-type {\n",
       "        vertical-align: middle;\n",
       "    }\n",
       "\n",
       "    .dataframe tbody tr th {\n",
       "        vertical-align: top;\n",
       "    }\n",
       "\n",
       "    .dataframe thead th {\n",
       "        text-align: right;\n",
       "    }\n",
       "</style>\n",
       "<table border=\"1\" class=\"dataframe\">\n",
       "  <thead>\n",
       "    <tr style=\"text-align: right;\">\n",
       "      <th></th>\n",
       "      <th>id</th>\n",
       "      <th>display_name</th>\n",
       "      <th>works_count</th>\n",
       "      <th>works_api_url</th>\n",
       "      <th>h_index</th>\n",
       "      <th>country_code</th>\n",
       "    </tr>\n",
       "  </thead>\n",
       "  <tbody>\n",
       "    <tr>\n",
       "      <th>16208</th>\n",
       "      <td>https://openalex.org/A5053443984</td>\n",
       "      <td>-ZHANG-Rong LI-Hui WANG-Zhennan</td>\n",
       "      <td>1</td>\n",
       "      <td>https://api.openalex.org/works?filter=author.i...</td>\n",
       "      <td>0</td>\n",
       "      <td>NaN</td>\n",
       "    </tr>\n",
       "    <tr>\n",
       "      <th>24762</th>\n",
       "      <td>https://openalex.org/A5059360190</td>\n",
       "      <td>A Brown Taylor</td>\n",
       "      <td>3</td>\n",
       "      <td>https://api.openalex.org/works?filter=author.i...</td>\n",
       "      <td>0</td>\n",
       "      <td>NaN</td>\n",
       "    </tr>\n",
       "    <tr>\n",
       "      <th>24841</th>\n",
       "      <td>https://openalex.org/A5075662148</td>\n",
       "      <td>A F de Souza Miguel</td>\n",
       "      <td>1</td>\n",
       "      <td>https://api.openalex.org/works?filter=author.i...</td>\n",
       "      <td>0</td>\n",
       "      <td>NaN</td>\n",
       "    </tr>\n",
       "    <tr>\n",
       "      <th>19335</th>\n",
       "      <td>https://openalex.org/A5085785026</td>\n",
       "      <td>A Lee Edward</td>\n",
       "      <td>1</td>\n",
       "      <td>https://api.openalex.org/works?filter=author.i...</td>\n",
       "      <td>0</td>\n",
       "      <td>NaN</td>\n",
       "    </tr>\n",
       "    <tr>\n",
       "      <th>36587</th>\n",
       "      <td>https://openalex.org/A5075179024</td>\n",
       "      <td>A M Gregorio López Moreira</td>\n",
       "      <td>4</td>\n",
       "      <td>https://api.openalex.org/works?filter=author.i...</td>\n",
       "      <td>1</td>\n",
       "      <td>DE</td>\n",
       "    </tr>\n",
       "  </tbody>\n",
       "</table>\n",
       "</div>"
      ],
      "text/plain": [
       "                                     id                     display_name  \\\n",
       "16208  https://openalex.org/A5053443984  -ZHANG-Rong LI-Hui WANG-Zhennan   \n",
       "24762  https://openalex.org/A5059360190                   A Brown Taylor   \n",
       "24841  https://openalex.org/A5075662148              A F de Souza Miguel   \n",
       "19335  https://openalex.org/A5085785026                     A Lee Edward   \n",
       "36587  https://openalex.org/A5075179024       A M Gregorio López Moreira   \n",
       "\n",
       "       works_count                                      works_api_url  \\\n",
       "16208            1  https://api.openalex.org/works?filter=author.i...   \n",
       "24762            3  https://api.openalex.org/works?filter=author.i...   \n",
       "24841            1  https://api.openalex.org/works?filter=author.i...   \n",
       "19335            1  https://api.openalex.org/works?filter=author.i...   \n",
       "36587            4  https://api.openalex.org/works?filter=author.i...   \n",
       "\n",
       "       h_index country_code  \n",
       "16208        0          NaN  \n",
       "24762        0          NaN  \n",
       "24841        0          NaN  \n",
       "19335        0          NaN  \n",
       "36587        1           DE  "
      ]
     },
     "execution_count": 93,
     "metadata": {},
     "output_type": "execute_result"
    }
   ],
   "source": [
    "authors.sort_values(by='display_name').head(5)"
   ]
  },
  {
   "cell_type": "code",
   "execution_count": 94,
   "metadata": {},
   "outputs": [],
   "source": [
    "authors.to_csv('data/authors.csv', index=False)"
   ]
  },
  {
   "cell_type": "markdown",
   "metadata": {},
   "source": [
    "# Week 3 - Searching works"
   ]
  },
  {
   "cell_type": "code",
   "execution_count": 95,
   "metadata": {},
   "outputs": [
    {
     "name": "stdout",
     "output_type": "stream",
     "text": [
      "(27562, 6)\n"
     ]
    }
   ],
   "source": [
    "authors = pd.read_csv('data/authors.csv')\n",
    "print(authors.shape)"
   ]
  },
  {
   "cell_type": "code",
   "execution_count": 96,
   "metadata": {},
   "outputs": [
    {
     "name": "stdout",
     "output_type": "stream",
     "text": [
      "There are 4270 authors with more than 5 works and less than 5000\n"
     ]
    }
   ],
   "source": [
    "# Get only those authors with more than 5 works and less than 5000\n",
    "id_list = authors[(authors['works_count'] > 5)  & (authors['works_count']<5000)]['id'].tolist()\n",
    "print(\"There are\", len(id_list), \"authors with more than 5 works and less than 5000\")"
   ]
  },
  {
   "cell_type": "code",
   "execution_count": 97,
   "metadata": {},
   "outputs": [
    {
     "name": "stdout",
     "output_type": "stream",
     "text": [
      "Total of works: 26451\n"
     ]
    }
   ],
   "source": [
    "from joblib import Parallel, delayed\n",
    "# Define a function to fetch results for a given range of initial authors\n",
    "def fetch_results(initial_author):\n",
    "    URL_W = defineURL('works')\n",
    "    selected_vars = 'id,publication_year,cited_by_count,title,abstract_inverted_index,authorships'\n",
    "    i = 1\n",
    "    def_results = []\n",
    "    finish = False\n",
    "    while not finish:\n",
    "        response = requests.get(URL_W, params={'filter': 'authorships.author.id:(' + '|'.join(id_list[initial_author:initial_author+20]) \n",
    "                                               + '),cited_by_count:>10,authors_count:<10',\n",
    "                                               'select': selected_vars, 'per-page': '200', 'page': str(i)})\n",
    "        if response.status_code != 200:\n",
    "            print('Error at page ' + str(i), 'for authors ' + str(initial_author) + ' to ' + str(initial_author+20), 'and status code ' + str(response.status_code))\n",
    "            i += 1\n",
    "        else:\n",
    "            response = response.json()\n",
    "            if len(response['results']) == 0:\n",
    "                finish = True\n",
    "                break\n",
    "            def_results += response['results']\n",
    "            i += 1\n",
    "    return def_results\n",
    "\n",
    "# Define the range of initial authors\n",
    "initial_authors_range = range(0, len(id_list), 20)\n",
    "\n",
    "# Parallelize the loop using joblib\n",
    "results = Parallel(n_jobs=-1)(delayed(fetch_results)(initial_author) for initial_author in initial_authors_range)\n",
    "\n",
    "# Flatten the results list\n",
    "def_results_works = [result for sublist in results for result in sublist]\n",
    "\n",
    "for resp in def_results_works:\n",
    "    resp['author_id'] = [author['author']['id'] for author in resp['authorships']]\n",
    "    del resp['authorships']\n",
    "\n",
    "print('Total of works:', len(def_results_works))"
   ]
  },
  {
   "cell_type": "code",
   "execution_count": 98,
   "metadata": {},
   "outputs": [],
   "source": [
    "papers = pd.DataFrame(def_results_works, columns = ['id','publication_year','author_id','cited_by_count','title'])\n",
    "abstracts = pd.DataFrame(def_results_works, columns = ['id','abstract_inverted_index'])"
   ]
  },
  {
   "cell_type": "code",
   "execution_count": 99,
   "metadata": {},
   "outputs": [],
   "source": [
    "papers.to_csv('data/papers.csv', index = False)\n",
    "abstracts.to_csv('data/abstracts.csv', index = False)"
   ]
  },
  {
   "cell_type": "markdown",
   "metadata": {},
   "source": [
    "> - **Dataset summary.- How many works are listed in your *IC2S2 papers* dataframe? How many unique researchers have co-authored these works?**\n",
    "> - **Efficiency in code.- Describe the strategies you implemented to make your code more efficient. How did your approach affect your code's execution time?** __(answer in max 150 words)__\n",
    "> - **Filtering Criteria and Dataset Relevance- Reflect on the rationale behind setting specific thresholds for the total number of works by an author, the citation count, the number of authors per work, and the relevance of works to specific fields. How do these filtering criteria contribute to the relevance of the dataset you compiled? Do you believe any aspects of Computational Social Science research might be underrepresented or overrepresented as a result of these choices? __(answer in max 150 words)__**"
   ]
  },
  {
   "cell_type": "markdown",
   "metadata": {},
   "source": [
    "---\n",
    "\n",
    "# Part 4"
   ]
  },
  {
   "cell_type": "code",
   "execution_count": 3,
   "metadata": {},
   "outputs": [],
   "source": [
    "authors, papers, abstracts = readData()"
   ]
  },
  {
   "cell_type": "markdown",
   "metadata": {},
   "source": [
    "### INCLUDE HISTOGRAMS"
   ]
  },
  {
   "cell_type": "code",
   "execution_count": 4,
   "metadata": {},
   "outputs": [],
   "source": [
    "papers['author_id'] = papers['author_id'].apply(lambda x: ast.literal_eval(x))"
   ]
  },
  {
   "cell_type": "code",
   "execution_count": 5,
   "metadata": {},
   "outputs": [
    {
     "name": "stdout",
     "output_type": "stream",
     "text": [
      "[('https://openalex.org/A5088398612', 'https://openalex.org/A5090631705', 1), ('https://openalex.org/A5064290037', 'https://openalex.org/A5090631705', 24), ('https://openalex.org/A5064290037', 'https://openalex.org/A5088398612', 1), ('https://openalex.org/A5055710645', 'https://openalex.org/A5064274071', 6), ('https://openalex.org/A5025175846', 'https://openalex.org/A5064274071', 4)]\n"
     ]
    }
   ],
   "source": [
    "weighted_edgelist = {}\n",
    "\n",
    "for author in papers['author_id']:\n",
    "    for i in range(len(author)):\n",
    "        for j in range(i+1, len(author)):\n",
    "            pair = tuple(sorted([author[i], author[j]]))\n",
    "            if pair in weighted_edgelist:\n",
    "                weighted_edgelist[pair] += 1\n",
    "            else:\n",
    "                weighted_edgelist[pair] = 1\n",
    "\n",
    "weighted_edgelist = [(pair[0], pair[1], count) for pair, count in weighted_edgelist.items()]\n",
    "print(weighted_edgelist[0:5])"
   ]
  },
  {
   "cell_type": "code",
   "execution_count": 6,
   "metadata": {},
   "outputs": [],
   "source": [
    "G = nx.Graph()\n",
    "G.add_weighted_edges_from(weighted_edgelist)\n"
   ]
  },
  {
   "cell_type": "code",
   "execution_count": 7,
   "metadata": {},
   "outputs": [
    {
     "data": {
      "text/plain": [
       "6    Jon Kleinberg\n",
       "Name: display_name, dtype: object"
      ]
     },
     "execution_count": 7,
     "metadata": {},
     "output_type": "execute_result"
    }
   ],
   "source": [
    "authors.loc[authors['id'] == \"https://openalex.org/A5055710645\", 'display_name']"
   ]
  },
  {
   "cell_type": "code",
   "execution_count": 8,
   "metadata": {},
   "outputs": [
    {
     "name": "stdout",
     "output_type": "stream",
     "text": [
      "https://openalex.org/A5088398612\n",
      "Series([], Name: display_name, dtype: object)\n"
     ]
    }
   ],
   "source": [
    "for node in G.nodes():\n",
    "    print(node)\n",
    "    print(authors.loc[authors['id'] == str(node), 'display_name'])\n",
    "    break"
   ]
  },
  {
   "cell_type": "code",
   "execution_count": 9,
   "metadata": {},
   "outputs": [],
   "source": [
    "for node in G.nodes():\n",
    "    # Retrieve the author's display name, country, citation count, and year of first publication\n",
    "    display_name = authors.loc[authors['id'] == node, 'display_name']\n",
    "    country = authors.loc[authors['id'] == node, 'country_code']\n",
    "    citation_count = authors.loc[authors['id'] == node, 'works_count']\n",
    "    # first_publication_year = papers.loc[papers['author_id'].apply(lambda x: node in ast.literal_eval(x)), 'publication_year'].min()\n",
    "    \n",
    "    # Add the attributes to the node\n",
    "    G.nodes[node]['display_name'] = display_name\n",
    "    G.nodes[node]['country'] = country\n",
    "    G.nodes[node]['citation_count'] = citation_count\n",
    "    # G.nodes[node]['first_publication_year'] = first_publication_year\n",
    "\n",
    "# Save the network as a JSON file\n",
    "nx.write_adjlist(G, './data/network.json')\n"
   ]
  },
  {
   "cell_type": "code",
   "execution_count": null,
   "metadata": {},
   "outputs": [],
   "source": []
  }
 ],
 "metadata": {
  "kernelspec": {
   "display_name": "Python 3 (ipykernel)",
   "language": "python",
   "name": "python3"
  },
  "language_info": {
   "codemirror_mode": {
    "name": "ipython",
    "version": 3
   },
   "file_extension": ".py",
   "mimetype": "text/x-python",
   "name": "python",
   "nbconvert_exporter": "python",
   "pygments_lexer": "ipython3",
   "version": "3.10.13"
  }
 },
 "nbformat": 4,
 "nbformat_minor": 4
}
