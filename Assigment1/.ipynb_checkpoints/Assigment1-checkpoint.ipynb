{
 "cells": [
  {
   "cell_type": "markdown",
   "metadata": {},
   "source": [
    "# Assignment 1\n",
    "GitHub repository: https://github.com/llull179/Assigments_comsocsci2024.git"
   ]
  },
  {
   "cell_type": "code",
   "execution_count": 1,
   "metadata": {},
   "outputs": [],
   "source": [
    "from joblib import Parallel, delayed\n",
    "import joblib\n",
    "from joblib import Parallel, delayed\n",
    "import requests\n",
    "import pandas as pd\n",
    "from bs4 import BeautifulSoup\n",
    "import matplotlib.pyplot as plt\n",
    "import os\n",
    "import numpy as np\n",
    "import ast\n",
    "import networkx as nx"
   ]
  },
  {
   "cell_type": "code",
   "execution_count": 2,
   "metadata": {},
   "outputs": [],
   "source": [
    "def readData():\n",
    "    try:\n",
    "        authors = pd.read_csv('data/authors.csv')\n",
    "    except:\n",
    "        print('Not found authors.csv')\n",
    "        authors = None\n",
    "    try:\n",
    "        papers = pd.read_csv('data/papers.csv')\n",
    "    except:\n",
    "        print('Not found papers.csv')\n",
    "        papers = None\n",
    "    try:\n",
    "        abstracts = pd.read_csv('data/abstracts.csv')\n",
    "    except:\n",
    "        print('Not found abstracts.csv')\n",
    "        abstracts = None\n",
    "    return authors, papers, abstracts "
   ]
  },
  {
   "cell_type": "markdown",
   "metadata": {},
   "source": [
    "## Part I - Obtain authors"
   ]
  },
  {
   "cell_type": "code",
   "execution_count": 3,
   "metadata": {},
   "outputs": [],
   "source": [
    "def getSoup(url, base_url = \"https://ic2s2-2023.org\"):\n",
    "    COMPLETE_LINK = base_url+url\n",
    "    r = requests.get(COMPLETE_LINK)\n",
    "    return BeautifulSoup(r.content)"
   ]
  },
  {
   "cell_type": "code",
   "execution_count": 4,
   "metadata": {},
   "outputs": [],
   "source": [
    "soup = getSoup(\"/program\")\n",
    "sect = soup.find_all(\"section\", attrs = {\"id\": \"main\"})\n",
    "authorsList = set()\n",
    "\n",
    "for sect in sect:\n",
    "    for ul in sect.find_all('ul'):\n",
    "        for li in ul.find_all('li'):\n",
    "            authors = li.find(\"i\")\n",
    "            authors = authors.text.split(\",\")\n",
    "            authors = [author.strip() for author in authors]\n",
    "            authorsList.update(authors)"
   ]
  },
  {
   "cell_type": "code",
   "execution_count": 5,
   "metadata": {},
   "outputs": [],
   "source": [
    "sect = soup.find_all(\"section\", attrs = {\"id\": \"main\"})\n",
    "for sect in sect:\n",
    "    for h2 in sect.find_all('h2'):\n",
    "        if \"Chair\" in h2.text:\n",
    "            author = h2.text.split(\"Chair:\")[1].strip()\n",
    "            authorsList.add(author)"
   ]
  },
  {
   "cell_type": "code",
   "execution_count": 6,
   "metadata": {},
   "outputs": [],
   "source": [
    "# Optional: get the program committee\n",
    "soup = getSoup(\"/program_committee\")\n",
    "sect = soup.find_all(\"section\", attrs = {\"id\": \"main\"})\n",
    "for li in sect[0].find_all('li'):\n",
    "    authors = li.find(\"b\")\n",
    "    authorsList.update(authors)\n"
   ]
  },
  {
   "cell_type": "code",
   "execution_count": 7,
   "metadata": {},
   "outputs": [],
   "source": [
    "# Optional: get the tutorials teachers\n",
    "soup = getSoup(\"/tutorials\")\n",
    "sect = soup.find_all(\"section\", attrs = {\"id\": \"highlights\"})\n",
    "sect = sect[1].find_all(\"div\",attrs = {\"class\":\"container\"})[0]\n",
    "for ul in sect.find_all('ul'):\n",
    "    for b in ul.find_all('b'):\n",
    "        for a in b.find_all('a'):\n",
    "            author = a.text    \n",
    "            authorsList.add(author)"
   ]
  },
  {
   "cell_type": "code",
   "execution_count": 8,
   "metadata": {},
   "outputs": [],
   "source": [
    "# check the accurate of name\n",
    "for i in authorsList:\n",
    "    if ' ' not in i:\n",
    "        break;\n",
    "authorsList.remove(i)\n",
    "df = pd.DataFrame(authorsList, columns =[\"Name\"] )"
   ]
  },
  {
   "cell_type": "code",
   "execution_count": 9,
   "metadata": {},
   "outputs": [],
   "source": [
    "# with open('data/authorsList.txt', 'w') as file:\n",
    "#     for author in authorsList:\n",
    "#         file.write(author + '\\\\n')\n",
    "df.to_csv('data/authorsList.txt', header = False, index = False)"
   ]
  },
  {
   "cell_type": "code",
   "execution_count": 10,
   "metadata": {},
   "outputs": [
    {
     "name": "stdout",
     "output_type": "stream",
     "text": [
      "There is a total of 1648 researchers.\n"
     ]
    }
   ],
   "source": [
    "print(\"There is a total of\", len(authorsList), \"researchers.\")"
   ]
  },
  {
   "cell_type": "markdown",
   "metadata": {},
   "source": [
    "Considering the structure of the webpage, we scraped each page specifically containing names sepeartely, identified the distinct tags to precisely extract the researcher names, and integrated them subsequently, ensuring we could get as many names as possible. To enhance the list quality, we utilized a set to store the names and avoid the duplicates. Additionly, we check the accuracy of the collected names by confirming that each name is complete with both first and family names."
   ]
  },
  {
   "cell_type": "markdown",
   "metadata": {},
   "source": [
    "## Part II"
   ]
  },
  {
   "cell_type": "markdown",
   "metadata": {},
   "source": [
    "The custom-made data can make study result more targeted and detailed since researchers can create and control the experiment process directly, and sample can be controlled, ensuring the revelent between the collected informination and analysis. However, this comes with a high cost to maintain and the sample size is limited. Additionlly, many bias such as non-response bias may arise.\n",
    "\n",
    "The ready-made data can offers a large sample size and has a time effiency based on the real world condition. But it is hard to access and researchers have limited control for the expirement degin, hence The informination may be incompleted or unrealted, and ethical and privacy issues also need to further consider."
   ]
  },
  {
   "cell_type": "markdown",
   "metadata": {},
   "source": [
    "Two types of data may introduce different bias to study results, custom-made data may influence the data collection, while the ready-made data may introduce bias to the researchers. Morever, when handling custom-data, the data limitation and robutness are need to be considered. And researchers should assess the quailty of the data, and undertake additional process to clean the data when working with ready-made data."
   ]
  },
  {
   "cell_type": "markdown",
   "metadata": {},
   "source": [
    "## Part III - Obtain author frm OpenAlex"
   ]
  },
  {
   "cell_type": "code",
   "execution_count": 11,
   "metadata": {},
   "outputs": [],
   "source": [
    "def defineURL(type):\n",
    "    BASE_URL = 'https://api.openalex.org/'\n",
    "    return BASE_URL + type"
   ]
  },
  {
   "cell_type": "code",
   "execution_count": 12,
   "metadata": {
    "scrolled": true
   },
   "outputs": [
    {
     "name": "stdout",
     "output_type": "stream",
     "text": [
      "['Sander van der Linden', 'Anne C. Kroon', 'Emma Spiro', 'Antonio Bucchiarone', 'Ke Li']\n"
     ]
    }
   ],
   "source": [
    "with open('data/authorsList.txt', 'r', encoding = 'utf-8') as file:\n",
    "    authors_list = file.read().splitlines()\n",
    "\n",
    "print(authors_list[0:5])"
   ]
  },
  {
   "cell_type": "code",
   "execution_count": 13,
   "metadata": {},
   "outputs": [],
   "source": [
    "URL_W = defineURL('authors')\n",
    "selected_vars = 'id,display_name,works_count,works_api_url,summary_stats,last_known_institution'\n",
    "\n",
    "response = requests.get(URL_W, params={'filter': 'display_name.search:(' + '|'.join(authors_list[0:0+20]) + ')',\n",
    "                                               'select': selected_vars, 'per-page': '200', 'page': str(1)}).json()"
   ]
  },
  {
   "cell_type": "code",
   "execution_count": 14,
   "metadata": {},
   "outputs": [
    {
     "name": "stdout",
     "output_type": "stream",
     "text": [
      "50493\n"
     ]
    }
   ],
   "source": [
    "def fetch_results_authors(initial_author):\n",
    "    URL_W = defineURL('authors')\n",
    "    selected_vars = 'id,display_name,works_count,works_api_url,summary_stats,last_known_institution'\n",
    "    i = 1\n",
    "    def_results = []\n",
    "    finish = False\n",
    "    while not finish:\n",
    "        response = requests.get(URL_W, params={'filter': 'display_name.search:(' + '|'.join(authors_list[initial_author:initial_author+20]) + ')',\n",
    "                                               'select': selected_vars, 'per-page': '200', 'page': str(i)})\n",
    "        if response.status_code != 200:\n",
    "            print('Error at page ' + str(i), 'for authors ' + str(initial_author) + ' to ' + str(initial_author+20), 'and status code ' + str(response.status_code))\n",
    "            i += 1\n",
    "        else:\n",
    "            response = response.json()\n",
    "            if len(response['results']) == 0:\n",
    "                finish = True\n",
    "                break\n",
    "            def_results += response['results']\n",
    "            i += 1\n",
    "    return def_results\n",
    "\n",
    "initial_authors_range = range(0, len(authors_list), 20)\n",
    "\n",
    "results = Parallel(n_jobs=-1)(delayed(fetch_results_authors)(initial_author) for initial_author in initial_authors_range)\n",
    "def_results_authors = [result for sublist in results for result in sublist]\n",
    "\n",
    "for resp in def_results_authors:\n",
    "    try:\n",
    "        resp['country_code'] = resp['last_known_institution']['country_code']\n",
    "    except:\n",
    "        resp['country_code'] = np.nan\n",
    "    try:\n",
    "        resp['h_index'] = resp['summary_stats']['h_index']\n",
    "    except:\n",
    "        resp['h_index'] = 0\n",
    "\n",
    "\n",
    "print(len(def_results_authors))\n"
   ]
  },
  {
   "cell_type": "code",
   "execution_count": 15,
   "metadata": {},
   "outputs": [
    {
     "data": {
      "text/html": [
       "<div>\n",
       "<style scoped>\n",
       "    .dataframe tbody tr th:only-of-type {\n",
       "        vertical-align: middle;\n",
       "    }\n",
       "\n",
       "    .dataframe tbody tr th {\n",
       "        vertical-align: top;\n",
       "    }\n",
       "\n",
       "    .dataframe thead th {\n",
       "        text-align: right;\n",
       "    }\n",
       "</style>\n",
       "<table border=\"1\" class=\"dataframe\">\n",
       "  <thead>\n",
       "    <tr style=\"text-align: right;\">\n",
       "      <th></th>\n",
       "      <th>id</th>\n",
       "      <th>display_name</th>\n",
       "      <th>works_count</th>\n",
       "      <th>works_api_url</th>\n",
       "      <th>h_index</th>\n",
       "      <th>country_code</th>\n",
       "    </tr>\n",
       "  </thead>\n",
       "  <tbody>\n",
       "    <tr>\n",
       "      <th>14861</th>\n",
       "      <td>https://openalex.org/A5093919355</td>\n",
       "      <td>Juan Carlos Rodriguez-Quinteros</td>\n",
       "      <td>0</td>\n",
       "      <td>https://api.openalex.org/works?filter=author.i...</td>\n",
       "      <td>0</td>\n",
       "      <td>NaN</td>\n",
       "    </tr>\n",
       "    <tr>\n",
       "      <th>39146</th>\n",
       "      <td>https://openalex.org/A5071085147</td>\n",
       "      <td>Yang Ting-li</td>\n",
       "      <td>2</td>\n",
       "      <td>https://api.openalex.org/works?filter=author.i...</td>\n",
       "      <td>1</td>\n",
       "      <td>JP</td>\n",
       "    </tr>\n",
       "    <tr>\n",
       "      <th>3211</th>\n",
       "      <td>https://openalex.org/A5027004426</td>\n",
       "      <td>Zhang-Gang Xiao</td>\n",
       "      <td>1</td>\n",
       "      <td>https://api.openalex.org/works?filter=author.i...</td>\n",
       "      <td>1</td>\n",
       "      <td>CN</td>\n",
       "    </tr>\n",
       "    <tr>\n",
       "      <th>35546</th>\n",
       "      <td>https://openalex.org/A5082843263</td>\n",
       "      <td>Laura Ximena Hernández Barreto</td>\n",
       "      <td>1</td>\n",
       "      <td>https://api.openalex.org/works?filter=author.i...</td>\n",
       "      <td>0</td>\n",
       "      <td>NaN</td>\n",
       "    </tr>\n",
       "    <tr>\n",
       "      <th>9574</th>\n",
       "      <td>https://openalex.org/A5028265453</td>\n",
       "      <td>Wei-Hao Peng</td>\n",
       "      <td>2</td>\n",
       "      <td>https://api.openalex.org/works?filter=author.i...</td>\n",
       "      <td>1</td>\n",
       "      <td>TW</td>\n",
       "    </tr>\n",
       "    <tr>\n",
       "      <th>4786</th>\n",
       "      <td>https://openalex.org/A5030608374</td>\n",
       "      <td>Zhang Xiao-ju</td>\n",
       "      <td>3</td>\n",
       "      <td>https://api.openalex.org/works?filter=author.i...</td>\n",
       "      <td>0</td>\n",
       "      <td>NaN</td>\n",
       "    </tr>\n",
       "    <tr>\n",
       "      <th>33319</th>\n",
       "      <td>https://openalex.org/A5093895823</td>\n",
       "      <td>Darya Zare</td>\n",
       "      <td>0</td>\n",
       "      <td>https://api.openalex.org/works?filter=author.i...</td>\n",
       "      <td>0</td>\n",
       "      <td>NaN</td>\n",
       "    </tr>\n",
       "    <tr>\n",
       "      <th>43160</th>\n",
       "      <td>https://openalex.org/A5081394572</td>\n",
       "      <td>S. Hui Wang</td>\n",
       "      <td>1</td>\n",
       "      <td>https://api.openalex.org/works?filter=author.i...</td>\n",
       "      <td>0</td>\n",
       "      <td>BR</td>\n",
       "    </tr>\n",
       "    <tr>\n",
       "      <th>14856</th>\n",
       "      <td>https://openalex.org/A5053388236</td>\n",
       "      <td>Angel Carlos Rodriguez-Llamas</td>\n",
       "      <td>1</td>\n",
       "      <td>https://api.openalex.org/works?filter=author.i...</td>\n",
       "      <td>0</td>\n",
       "      <td>ES</td>\n",
       "    </tr>\n",
       "    <tr>\n",
       "      <th>45179</th>\n",
       "      <td>https://openalex.org/A5089817706</td>\n",
       "      <td>Bin Wang</td>\n",
       "      <td>245</td>\n",
       "      <td>https://api.openalex.org/works?filter=author.i...</td>\n",
       "      <td>52</td>\n",
       "      <td>CN</td>\n",
       "    </tr>\n",
       "  </tbody>\n",
       "</table>\n",
       "</div>"
      ],
      "text/plain": [
       "                                     id                     display_name  \\\n",
       "14861  https://openalex.org/A5093919355  Juan Carlos Rodriguez-Quinteros   \n",
       "39146  https://openalex.org/A5071085147                     Yang Ting-li   \n",
       "3211   https://openalex.org/A5027004426                  Zhang-Gang Xiao   \n",
       "35546  https://openalex.org/A5082843263   Laura Ximena Hernández Barreto   \n",
       "9574   https://openalex.org/A5028265453                     Wei-Hao Peng   \n",
       "4786   https://openalex.org/A5030608374                    Zhang Xiao-ju   \n",
       "33319  https://openalex.org/A5093895823                       Darya Zare   \n",
       "43160  https://openalex.org/A5081394572                      S. Hui Wang   \n",
       "14856  https://openalex.org/A5053388236    Angel Carlos Rodriguez-Llamas   \n",
       "45179  https://openalex.org/A5089817706                         Bin Wang   \n",
       "\n",
       "       works_count                                      works_api_url  \\\n",
       "14861            0  https://api.openalex.org/works?filter=author.i...   \n",
       "39146            2  https://api.openalex.org/works?filter=author.i...   \n",
       "3211             1  https://api.openalex.org/works?filter=author.i...   \n",
       "35546            1  https://api.openalex.org/works?filter=author.i...   \n",
       "9574             2  https://api.openalex.org/works?filter=author.i...   \n",
       "4786             3  https://api.openalex.org/works?filter=author.i...   \n",
       "33319            0  https://api.openalex.org/works?filter=author.i...   \n",
       "43160            1  https://api.openalex.org/works?filter=author.i...   \n",
       "14856            1  https://api.openalex.org/works?filter=author.i...   \n",
       "45179          245  https://api.openalex.org/works?filter=author.i...   \n",
       "\n",
       "       h_index country_code  \n",
       "14861        0          NaN  \n",
       "39146        1           JP  \n",
       "3211         1           CN  \n",
       "35546        0          NaN  \n",
       "9574         1           TW  \n",
       "4786         0          NaN  \n",
       "33319        0          NaN  \n",
       "43160        0           BR  \n",
       "14856        0           ES  \n",
       "45179       52           CN  "
      ]
     },
     "execution_count": 15,
     "metadata": {},
     "output_type": "execute_result"
    }
   ],
   "source": [
    "authors = pd.DataFrame(def_results_authors, columns = ['id', 'display_name', 'works_count', 'works_api_url','h_index','country_code'])\n",
    "authors.sample(10)"
   ]
  },
  {
   "cell_type": "markdown",
   "metadata": {},
   "source": [
    "#### Let's delte repited authors\n",
    "- We first delete all the repited id. (Not necessary any ordering because all the rows are exactly the same)\n",
    "- Later we delete all the repited display_name. (We order by h_index and delete the lowest one)"
   ]
  },
  {
   "cell_type": "code",
   "execution_count": 16,
   "metadata": {},
   "outputs": [],
   "source": [
    "authors = authors.drop_duplicates(subset = 'id')"
   ]
  },
  {
   "cell_type": "code",
   "execution_count": 17,
   "metadata": {},
   "outputs": [
    {
     "name": "stdout",
     "output_type": "stream",
     "text": [
      "                                     id          display_name  works_count  \\\n",
      "28496  https://openalex.org/A5035872740          A Lee Edward            3   \n",
      "28502  https://openalex.org/A5085785026          A Lee Edward            1   \n",
      "47846  https://openalex.org/A5070416321  A.-M. Cohen-Jonathan            1   \n",
      "47559  https://openalex.org/A5040705130  A.-M. Cohen-Jonathan            2   \n",
      "9075   https://openalex.org/A5065690741            AI Xue-lin            1   \n",
      "9161   https://openalex.org/A5014271391            AI Xue-lin            1   \n",
      "\n",
      "                                           works_api_url  h_index country_code  \n",
      "28496  https://api.openalex.org/works?filter=author.i...        0          NaN  \n",
      "28502  https://api.openalex.org/works?filter=author.i...        0          NaN  \n",
      "47846  https://api.openalex.org/works?filter=author.i...        0          NaN  \n",
      "47559  https://api.openalex.org/works?filter=author.i...        2           FR  \n",
      "9075   https://api.openalex.org/works?filter=author.i...        0          NaN  \n",
      "9161   https://api.openalex.org/works?filter=author.i...        0          NaN  \n"
     ]
    }
   ],
   "source": [
    "print(authors[authors.display_name.duplicated(keep=False)].sort_values(by='display_name').head(6))\n",
    "authors = authors.sort_values(by='h_index', ascending=False).drop_duplicates(subset ='display_name',keep='first')"
   ]
  },
  {
   "cell_type": "code",
   "execution_count": 18,
   "metadata": {},
   "outputs": [],
   "source": [
    "authors.to_csv('data/authors.csv', index=False)"
   ]
  },
  {
   "cell_type": "code",
   "execution_count": 19,
   "metadata": {},
   "outputs": [
    {
     "data": {
      "text/html": [
       "<div>\n",
       "<style scoped>\n",
       "    .dataframe tbody tr th:only-of-type {\n",
       "        vertical-align: middle;\n",
       "    }\n",
       "\n",
       "    .dataframe tbody tr th {\n",
       "        vertical-align: top;\n",
       "    }\n",
       "\n",
       "    .dataframe thead th {\n",
       "        text-align: right;\n",
       "    }\n",
       "</style>\n",
       "<table border=\"1\" class=\"dataframe\">\n",
       "  <thead>\n",
       "    <tr style=\"text-align: right;\">\n",
       "      <th></th>\n",
       "      <th>id</th>\n",
       "      <th>display_name</th>\n",
       "      <th>works_count</th>\n",
       "      <th>works_api_url</th>\n",
       "      <th>h_index</th>\n",
       "      <th>country_code</th>\n",
       "    </tr>\n",
       "  </thead>\n",
       "  <tbody>\n",
       "    <tr>\n",
       "      <th>1502</th>\n",
       "      <td>https://openalex.org/A5089815785</td>\n",
       "      <td>A Iván Smirnov-Castro</td>\n",
       "      <td>1</td>\n",
       "      <td>https://api.openalex.org/works?filter=author.i...</td>\n",
       "      <td>0</td>\n",
       "      <td>NaN</td>\n",
       "    </tr>\n",
       "    <tr>\n",
       "      <th>27559</th>\n",
       "      <td>https://openalex.org/A5069892661</td>\n",
       "      <td>A L de Castro Mario</td>\n",
       "      <td>2</td>\n",
       "      <td>https://api.openalex.org/works?filter=author.i...</td>\n",
       "      <td>0</td>\n",
       "      <td>NaN</td>\n",
       "    </tr>\n",
       "    <tr>\n",
       "      <th>28502</th>\n",
       "      <td>https://openalex.org/A5085785026</td>\n",
       "      <td>A Lee Edward</td>\n",
       "      <td>1</td>\n",
       "      <td>https://api.openalex.org/works?filter=author.i...</td>\n",
       "      <td>0</td>\n",
       "      <td>NaN</td>\n",
       "    </tr>\n",
       "    <tr>\n",
       "      <th>50301</th>\n",
       "      <td>https://openalex.org/A5075179024</td>\n",
       "      <td>A M Gregorio López Moreira</td>\n",
       "      <td>4</td>\n",
       "      <td>https://api.openalex.org/works?filter=author.i...</td>\n",
       "      <td>1</td>\n",
       "      <td>DE</td>\n",
       "    </tr>\n",
       "    <tr>\n",
       "      <th>7132</th>\n",
       "      <td>https://openalex.org/A5031371388</td>\n",
       "      <td>A Pereira-Da-Silva Marcelo</td>\n",
       "      <td>1</td>\n",
       "      <td>https://api.openalex.org/works?filter=author.i...</td>\n",
       "      <td>0</td>\n",
       "      <td>NaN</td>\n",
       "    </tr>\n",
       "    <tr>\n",
       "      <th>7373</th>\n",
       "      <td>https://openalex.org/A5008413061</td>\n",
       "      <td>A Pereira-da-Silva Marcelo</td>\n",
       "      <td>4</td>\n",
       "      <td>https://api.openalex.org/works?filter=author.i...</td>\n",
       "      <td>0</td>\n",
       "      <td>NaN</td>\n",
       "    </tr>\n",
       "    <tr>\n",
       "      <th>14835</th>\n",
       "      <td>https://openalex.org/A5064351889</td>\n",
       "      <td>A Rodríguez Carlos</td>\n",
       "      <td>1</td>\n",
       "      <td>https://api.openalex.org/works?filter=author.i...</td>\n",
       "      <td>1</td>\n",
       "      <td>NaN</td>\n",
       "    </tr>\n",
       "    <tr>\n",
       "      <th>1517</th>\n",
       "      <td>https://openalex.org/A5060850928</td>\n",
       "      <td>A Smirnov Ivan</td>\n",
       "      <td>1</td>\n",
       "      <td>https://api.openalex.org/works?filter=author.i...</td>\n",
       "      <td>0</td>\n",
       "      <td>NaN</td>\n",
       "    </tr>\n",
       "    <tr>\n",
       "      <th>8460</th>\n",
       "      <td>https://openalex.org/A5049430109</td>\n",
       "      <td>A Yassin Ali</td>\n",
       "      <td>2</td>\n",
       "      <td>https://api.openalex.org/works?filter=author.i...</td>\n",
       "      <td>0</td>\n",
       "      <td>NaN</td>\n",
       "    </tr>\n",
       "    <tr>\n",
       "      <th>47645</th>\n",
       "      <td>https://openalex.org/A5068241926</td>\n",
       "      <td>A nne-Marie Urban</td>\n",
       "      <td>1</td>\n",
       "      <td>https://api.openalex.org/works?filter=author.i...</td>\n",
       "      <td>0</td>\n",
       "      <td>NaN</td>\n",
       "    </tr>\n",
       "    <tr>\n",
       "      <th>35062</th>\n",
       "      <td>https://openalex.org/A5024453252</td>\n",
       "      <td>A-Li Liao</td>\n",
       "      <td>2</td>\n",
       "      <td>https://api.openalex.org/works?filter=author.i...</td>\n",
       "      <td>0</td>\n",
       "      <td>CN</td>\n",
       "    </tr>\n",
       "    <tr>\n",
       "      <th>48267</th>\n",
       "      <td>https://openalex.org/A5019896488</td>\n",
       "      <td>A-Yang Wang</td>\n",
       "      <td>2</td>\n",
       "      <td>https://api.openalex.org/works?filter=author.i...</td>\n",
       "      <td>1</td>\n",
       "      <td>CN</td>\n",
       "    </tr>\n",
       "    <tr>\n",
       "      <th>37599</th>\n",
       "      <td>https://openalex.org/A5091103260</td>\n",
       "      <td>A. Cook Michael</td>\n",
       "      <td>1</td>\n",
       "      <td>https://api.openalex.org/works?filter=author.i...</td>\n",
       "      <td>0</td>\n",
       "      <td>NaN</td>\n",
       "    </tr>\n",
       "    <tr>\n",
       "      <th>50036</th>\n",
       "      <td>https://openalex.org/A5060084559</td>\n",
       "      <td>A. Daniel Romero</td>\n",
       "      <td>1</td>\n",
       "      <td>https://api.openalex.org/works?filter=author.i...</td>\n",
       "      <td>0</td>\n",
       "      <td>NaN</td>\n",
       "    </tr>\n",
       "    <tr>\n",
       "      <th>37026</th>\n",
       "      <td>https://openalex.org/A5067840447</td>\n",
       "      <td>A. G. B. Antonio Gilson Barbosa de Lima Lima</td>\n",
       "      <td>1</td>\n",
       "      <td>https://api.openalex.org/works?filter=author.i...</td>\n",
       "      <td>0</td>\n",
       "      <td>NaN</td>\n",
       "    </tr>\n",
       "    <tr>\n",
       "      <th>45175</th>\n",
       "      <td>https://openalex.org/A5088918144</td>\n",
       "      <td>A. González Blanco; J. A. Molina Gómez; Julia ...</td>\n",
       "      <td>2</td>\n",
       "      <td>https://api.openalex.org/works?filter=author.i...</td>\n",
       "      <td>0</td>\n",
       "      <td>CO</td>\n",
       "    </tr>\n",
       "    <tr>\n",
       "      <th>43214</th>\n",
       "      <td>https://openalex.org/A5053566670</td>\n",
       "      <td>A. Hui Wang</td>\n",
       "      <td>1</td>\n",
       "      <td>https://api.openalex.org/works?filter=author.i...</td>\n",
       "      <td>0</td>\n",
       "      <td>NaN</td>\n",
       "    </tr>\n",
       "    <tr>\n",
       "      <th>9650</th>\n",
       "      <td>https://openalex.org/A5001024459</td>\n",
       "      <td>A. Kumar Chandra Gupta</td>\n",
       "      <td>4</td>\n",
       "      <td>https://api.openalex.org/works?filter=author.i...</td>\n",
       "      <td>1</td>\n",
       "      <td>NaN</td>\n",
       "    </tr>\n",
       "    <tr>\n",
       "      <th>20522</th>\n",
       "      <td>https://openalex.org/A5054041924</td>\n",
       "      <td>A. Li Na Zhang</td>\n",
       "      <td>1</td>\n",
       "      <td>https://api.openalex.org/works?filter=author.i...</td>\n",
       "      <td>1</td>\n",
       "      <td>CN</td>\n",
       "    </tr>\n",
       "    <tr>\n",
       "      <th>1643</th>\n",
       "      <td>https://openalex.org/A5021085121</td>\n",
       "      <td>A. Marcos De Oliveira</td>\n",
       "      <td>1</td>\n",
       "      <td>https://api.openalex.org/works?filter=author.i...</td>\n",
       "      <td>0</td>\n",
       "      <td>BR</td>\n",
       "    </tr>\n",
       "  </tbody>\n",
       "</table>\n",
       "</div>"
      ],
      "text/plain": [
       "                                     id  \\\n",
       "1502   https://openalex.org/A5089815785   \n",
       "27559  https://openalex.org/A5069892661   \n",
       "28502  https://openalex.org/A5085785026   \n",
       "50301  https://openalex.org/A5075179024   \n",
       "7132   https://openalex.org/A5031371388   \n",
       "7373   https://openalex.org/A5008413061   \n",
       "14835  https://openalex.org/A5064351889   \n",
       "1517   https://openalex.org/A5060850928   \n",
       "8460   https://openalex.org/A5049430109   \n",
       "47645  https://openalex.org/A5068241926   \n",
       "35062  https://openalex.org/A5024453252   \n",
       "48267  https://openalex.org/A5019896488   \n",
       "37599  https://openalex.org/A5091103260   \n",
       "50036  https://openalex.org/A5060084559   \n",
       "37026  https://openalex.org/A5067840447   \n",
       "45175  https://openalex.org/A5088918144   \n",
       "43214  https://openalex.org/A5053566670   \n",
       "9650   https://openalex.org/A5001024459   \n",
       "20522  https://openalex.org/A5054041924   \n",
       "1643   https://openalex.org/A5021085121   \n",
       "\n",
       "                                            display_name  works_count  \\\n",
       "1502                               A Iván Smirnov-Castro            1   \n",
       "27559                                A L de Castro Mario            2   \n",
       "28502                                       A Lee Edward            1   \n",
       "50301                         A M Gregorio López Moreira            4   \n",
       "7132                          A Pereira-Da-Silva Marcelo            1   \n",
       "7373                          A Pereira-da-Silva Marcelo            4   \n",
       "14835                                 A Rodríguez Carlos            1   \n",
       "1517                                      A Smirnov Ivan            1   \n",
       "8460                                        A Yassin Ali            2   \n",
       "47645                                  A nne-Marie Urban            1   \n",
       "35062                                          A-Li Liao            2   \n",
       "48267                                        A-Yang Wang            2   \n",
       "37599                                    A. Cook Michael            1   \n",
       "50036                                   A. Daniel Romero            1   \n",
       "37026       A. G. B. Antonio Gilson Barbosa de Lima Lima            1   \n",
       "45175  A. González Blanco; J. A. Molina Gómez; Julia ...            2   \n",
       "43214                                        A. Hui Wang            1   \n",
       "9650                              A. Kumar Chandra Gupta            4   \n",
       "20522                                     A. Li Na Zhang            1   \n",
       "1643                               A. Marcos De Oliveira            1   \n",
       "\n",
       "                                           works_api_url  h_index country_code  \n",
       "1502   https://api.openalex.org/works?filter=author.i...        0          NaN  \n",
       "27559  https://api.openalex.org/works?filter=author.i...        0          NaN  \n",
       "28502  https://api.openalex.org/works?filter=author.i...        0          NaN  \n",
       "50301  https://api.openalex.org/works?filter=author.i...        1           DE  \n",
       "7132   https://api.openalex.org/works?filter=author.i...        0          NaN  \n",
       "7373   https://api.openalex.org/works?filter=author.i...        0          NaN  \n",
       "14835  https://api.openalex.org/works?filter=author.i...        1          NaN  \n",
       "1517   https://api.openalex.org/works?filter=author.i...        0          NaN  \n",
       "8460   https://api.openalex.org/works?filter=author.i...        0          NaN  \n",
       "47645  https://api.openalex.org/works?filter=author.i...        0          NaN  \n",
       "35062  https://api.openalex.org/works?filter=author.i...        0           CN  \n",
       "48267  https://api.openalex.org/works?filter=author.i...        1           CN  \n",
       "37599  https://api.openalex.org/works?filter=author.i...        0          NaN  \n",
       "50036  https://api.openalex.org/works?filter=author.i...        0          NaN  \n",
       "37026  https://api.openalex.org/works?filter=author.i...        0          NaN  \n",
       "45175  https://api.openalex.org/works?filter=author.i...        0           CO  \n",
       "43214  https://api.openalex.org/works?filter=author.i...        0          NaN  \n",
       "9650   https://api.openalex.org/works?filter=author.i...        1          NaN  \n",
       "20522  https://api.openalex.org/works?filter=author.i...        1           CN  \n",
       "1643   https://api.openalex.org/works?filter=author.i...        0           BR  "
      ]
     },
     "execution_count": 19,
     "metadata": {},
     "output_type": "execute_result"
    }
   ],
   "source": [
    "authors.sort_values(by='display_name')[10:30]"
   ]
  },
  {
   "cell_type": "markdown",
   "metadata": {},
   "source": [
    "# Week 3 - Searching works"
   ]
  },
  {
   "cell_type": "code",
   "execution_count": 20,
   "metadata": {},
   "outputs": [
    {
     "name": "stdout",
     "output_type": "stream",
     "text": [
      "(38996, 6)\n"
     ]
    }
   ],
   "source": [
    "authors = pd.read_csv('data/authors.csv')\n",
    "print(authors.shape)"
   ]
  },
  {
   "cell_type": "code",
   "execution_count": 21,
   "metadata": {},
   "outputs": [
    {
     "name": "stdout",
     "output_type": "stream",
     "text": [
      "There are 6457 authors with more than 5 works and less than 5000\n"
     ]
    }
   ],
   "source": [
    "# Get only those authors with more than 5 works and less than 5000\n",
    "id_list = authors[(authors['works_count'] > 5)  & (authors['works_count']<5000)]['id'].tolist()\n",
    "print(\"There are\", len(id_list), \"authors with more than 5 works and less than 5000\")"
   ]
  },
  {
   "cell_type": "code",
   "execution_count": 22,
   "metadata": {},
   "outputs": [
    {
     "name": "stdout",
     "output_type": "stream",
     "text": [
      "Total of works: 62229\n"
     ]
    }
   ],
   "source": [
    "from joblib import Parallel, delayed\n",
    "# Define a function to fetch results for a given range of initial authors\n",
    "def fetch_results(initial_author):\n",
    "    URL_W = defineURL('works')\n",
    "    selected_vars = 'id,publication_year,cited_by_count,title,abstract_inverted_index,authorships'\n",
    "    i = 1\n",
    "    def_results = []\n",
    "    finish = False\n",
    "    while not finish:\n",
    "        response = requests.get(URL_W, params={'filter': 'authorships.author.id:(' + '|'.join(id_list[initial_author:initial_author+20]) + '),cited_by_count:>10,authors_count:<10',\n",
    "                                               'select': selected_vars, 'per-page': '200', 'page': str(i)})\n",
    "        if response.status_code != 200:\n",
    "            print('Error at page ' + str(i), 'for authors ' + str(initial_author) + ' to ' + str(initial_author+20), 'and status code ' + str(response.status_code))\n",
    "            i += 1\n",
    "        else:\n",
    "            response = response.json()\n",
    "            if len(response['results']) == 0:\n",
    "                finish = True\n",
    "                break\n",
    "            def_results += response['results']\n",
    "            i += 1\n",
    "    return def_results\n",
    "\n",
    "# Define the range of initial authors\n",
    "initial_authors_range = range(0, len(id_list), 20)\n",
    "\n",
    "# Parallelize the loop using joblib\n",
    "results = Parallel(n_jobs=-1)(delayed(fetch_results)(initial_author) for initial_author in initial_authors_range)\n",
    "\n",
    "# Flatten the results list\n",
    "def_results_works = [result for sublist in results for result in sublist]\n",
    "\n",
    "for resp in def_results_works:\n",
    "    resp['author_id'] = [author['author']['id'] for author in resp['authorships']]\n",
    "    del resp['authorships']\n",
    "\n",
    "print('Total of works:', len(def_results_works))"
   ]
  },
  {
   "cell_type": "code",
   "execution_count": 23,
   "metadata": {},
   "outputs": [],
   "source": [
    "papers = pd.DataFrame(def_results_works, columns = ['id','publication_year','cited_by_count','title'])\n",
    "abstracts = pd.DataFrame(def_results_works, columns = ['id','author_id','abstract_inverted_index'])"
   ]
  },
  {
   "cell_type": "code",
   "execution_count": 24,
   "metadata": {},
   "outputs": [],
   "source": [
    "papers.to_csv('data/papers.csv', index = False)\n",
    "abstracts.to_csv('data/abstracts.csv', index = False)"
   ]
  },
  {
   "cell_type": "markdown",
   "metadata": {},
   "source": [
    "---"
   ]
  },
  {
   "cell_type": "markdown",
   "metadata": {},
   "source": []
  },
  {
   "cell_type": "code",
   "execution_count": 25,
   "metadata": {},
   "outputs": [],
   "source": [
    "authors = pd.read_csv('data/authors.csv')\n",
    "papers = pd.read_csv('data/papers.csv')\n",
    "abstracts = pd.read_csv('data/abstracts.csv')"
   ]
  },
  {
   "cell_type": "code",
   "execution_count": 26,
   "metadata": {},
   "outputs": [
    {
     "data": {
      "text/plain": [
       "\"['https://openalex.org/A5065437321', 'https://openalex.org/A5079650286', 'https://openalex.org/A5019262477', 'https://openalex.org/A5028913130', 'https://openalex.org/A5049020628']\""
      ]
     },
     "execution_count": 26,
     "metadata": {},
     "output_type": "execute_result"
    }
   ],
   "source": [
    "(abstracts.iloc[59783]['author_id'])"
   ]
  },
  {
   "cell_type": "code",
   "execution_count": 27,
   "metadata": {},
   "outputs": [
    {
     "data": {
      "text/plain": [
       "0        ['https://openalex.org/A5025323154', 'https://...\n",
       "1        ['https://openalex.org/A5012905268', 'https://...\n",
       "2        ['https://openalex.org/A5084251670', 'https://...\n",
       "3                     ['https://openalex.org/A5055710645']\n",
       "4        ['https://openalex.org/A5025323154', 'https://...\n",
       "                               ...                        \n",
       "62224    ['https://openalex.org/A5069108498', 'https://...\n",
       "62225    ['https://openalex.org/A5091137286', 'https://...\n",
       "62226    ['https://openalex.org/A5022120658', 'https://...\n",
       "62227    ['https://openalex.org/A5079240170', 'https://...\n",
       "62228    ['https://openalex.org/A5082108923', 'https://...\n",
       "Name: author_id, Length: 62229, dtype: object"
      ]
     },
     "execution_count": 27,
     "metadata": {},
     "output_type": "execute_result"
    }
   ],
   "source": [
    "abstracts['author_id']"
   ]
  },
  {
   "cell_type": "code",
   "execution_count": 28,
   "metadata": {},
   "outputs": [],
   "source": [
    "abstracts['a'] = abstracts['author_id'].apply(lambda x: len(x))"
   ]
  },
  {
   "cell_type": "code",
   "execution_count": 29,
   "metadata": {},
   "outputs": [
    {
     "ename": "TypeError",
     "evalue": "string indices must be integers",
     "output_type": "error",
     "traceback": [
      "\u001b[1;31m---------------------------------------------------------------------------\u001b[0m",
      "\u001b[1;31mTypeError\u001b[0m                                 Traceback (most recent call last)",
      "Cell \u001b[1;32mIn[29], line 1\u001b[0m\n\u001b[1;32m----> 1\u001b[0m hist, edges \u001b[38;5;241m=\u001b[39m np\u001b[38;5;241m.\u001b[39mhistogram(\u001b[43mauthor\u001b[49m\u001b[43m[\u001b[49m\u001b[38;5;124;43m'\u001b[39;49m\u001b[38;5;124;43mworks_count\u001b[39;49m\u001b[38;5;124;43m'\u001b[39;49m\u001b[43m]\u001b[49m,bins \u001b[38;5;241m=\u001b[39m \u001b[38;5;241m10\u001b[39m)\n\u001b[0;32m      2\u001b[0m x \u001b[38;5;241m=\u001b[39m (edges[\u001b[38;5;241m1\u001b[39m:] \u001b[38;5;241m+\u001b[39m edges[:\u001b[38;5;241m-\u001b[39m\u001b[38;5;241m1\u001b[39m])\u001b[38;5;241m/\u001b[39m\u001b[38;5;241m2\u001b[39m\n",
      "\u001b[1;31mTypeError\u001b[0m: string indices must be integers"
     ]
    }
   ],
   "source": [
    "hist, edges = np.histogram(author['works_count'],bins = 10)\n",
    "x = (edges[1:] + edges[:-1])/2"
   ]
  },
  {
   "cell_type": "code",
   "execution_count": null,
   "metadata": {},
   "outputs": [],
   "source": [
    "fig, ax = plt.subplots()\n",
    "ax.bar(x,hist)\n",
    "\n",
    "plt.show()"
   ]
  },
  {
   "cell_type": "code",
   "execution_count": null,
   "metadata": {},
   "outputs": [],
   "source": [
    "top5_countries = authors['country_code'].value_counts()[0:5].index"
   ]
  },
  {
   "cell_type": "code",
   "execution_count": null,
   "metadata": {},
   "outputs": [],
   "source": [
    "colors = ['b','g','r','c','m']\n",
    "fig, ax = plt.subplots()\n",
    "for country in top5_countries:\n",
    "    #plot the histogram"
   ]
  },
  {
   "cell_type": "code",
   "execution_count": null,
   "metadata": {},
   "outputs": [],
   "source": [
    "plt.hist(authors['works_count'], bins=100,log=True, )\n",
    "plt.xlabel('Number of Works')\n",
    "plt.ylabel('Frequency')\n",
    "plt.title('Histogram of Number of Works')\n",
    "plt.show()\n"
   ]
  },
  {
   "cell_type": "code",
   "execution_count": null,
   "metadata": {},
   "outputs": [],
   "source": [
    "authors['works_count'].describe()"
   ]
  },
  {
   "cell_type": "markdown",
   "metadata": {},
   "source": [
    "---\n",
    "\n",
    "# Week 4"
   ]
  },
  {
   "cell_type": "code",
   "execution_count": null,
   "metadata": {},
   "outputs": [],
   "source": [
    "authors, papers, abstracts = readData()"
   ]
  },
  {
   "cell_type": "code",
   "execution_count": null,
   "metadata": {},
   "outputs": [],
   "source": [
    "abstracts['author_id'] = abstracts['author_id'].apply(lambda x: ast.literal_eval(x))"
   ]
  },
  {
   "cell_type": "code",
   "execution_count": null,
   "metadata": {},
   "outputs": [],
   "source": [
    "weighted_edgelist = {}\n",
    "\n",
    "for authors in abstracts['author_id']:\n",
    "    for i in range(len(authors)):\n",
    "        for j in range(i+1, len(authors)):\n",
    "            pair = tuple(sorted([authors[i], authors[j]]))\n",
    "            if pair in weighted_edgelist:\n",
    "                weighted_edgelist[pair] += 1\n",
    "            else:\n",
    "                weighted_edgelist[pair] = 1\n",
    "\n",
    "weighted_edgelist = [(pair[0], pair[1], count) for pair, count in weighted_edgelist.items()]\n"
   ]
  },
  {
   "cell_type": "code",
   "execution_count": null,
   "metadata": {},
   "outputs": [],
   "source": [
    "\n",
    "G = nx.Graph()\n",
    "G.add_weighted_edges_from(weighted_edgelist)\n"
   ]
  },
  {
   "cell_type": "code",
   "execution_count": null,
   "metadata": {},
   "outputs": [],
   "source": [
    "authors.loc[authors['id'] == \"https://openalex.org/A5055710645\", 'display_name']"
   ]
  },
  {
   "cell_type": "code",
   "execution_count": null,
   "metadata": {},
   "outputs": [],
   "source": [
    "for node in G.nodes():\n",
    "    print(node)\n",
    "    print(authors.loc[authors['id'] == str(node), 'display_name'])\n",
    "    break"
   ]
  },
  {
   "cell_type": "code",
   "execution_count": null,
   "metadata": {},
   "outputs": [],
   "source": [
    "for node in G.nodes():\n",
    "    # Retrieve the author's display name, country, citation count, and year of first publication\n",
    "    display_name = authors.loc[authors['id'] == node, 'display_name']\n",
    "    country = authors.loc[authors['id'] == node, 'country_code']\n",
    "    citation_count = authors.loc[authors['id'] == node, 'works_count']\n",
    "    # first_publication_year = papers.loc[papers['author_id'].apply(lambda x: node in ast.literal_eval(x)), 'publication_year'].min()\n",
    "    \n",
    "    # Add the attributes to the node\n",
    "    G.nodes[node]['display_name'] = display_name\n",
    "    G.nodes[node]['country'] = country\n",
    "    G.nodes[node]['citation_count'] = citation_count\n",
    "    # G.nodes[node]['first_publication_year'] = first_publication_year\n",
    "\n",
    "# Save the network as a JSON file\n",
    "nx.write_adjlist(G, './data/network.json')\n"
   ]
  },
  {
   "cell_type": "code",
   "execution_count": null,
   "metadata": {},
   "outputs": [],
   "source": [
    "authors.loc[authors['id'] == 'https://openalex.org/A5034987547'\t, 'display_name'].values[0]"
   ]
  },
  {
   "cell_type": "code",
   "execution_count": null,
   "metadata": {},
   "outputs": [],
   "source": [
    "authors.loc[authors['id'] == 'https://openalex.org/A5034987547', 'country_code'].values[0]"
   ]
  },
  {
   "cell_type": "code",
   "execution_count": null,
   "metadata": {},
   "outputs": [],
   "source": [
    "authors.head()"
   ]
  },
  {
   "cell_type": "code",
   "execution_count": null,
   "metadata": {},
   "outputs": [],
   "source": []
  }
 ],
 "metadata": {
  "kernelspec": {
   "display_name": "Python 3 (ipykernel)",
   "language": "python",
   "name": "python3"
  },
  "language_info": {
   "codemirror_mode": {
    "name": "ipython",
    "version": 3
   },
   "file_extension": ".py",
   "mimetype": "text/x-python",
   "name": "python",
   "nbconvert_exporter": "python",
   "pygments_lexer": "ipython3",
   "version": "3.10.13"
  }
 },
 "nbformat": 4,
 "nbformat_minor": 4
}
