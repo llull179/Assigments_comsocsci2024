{
 "cells": [
  {
   "cell_type": "markdown",
   "metadata": {},
   "source": [
    "# Assignment 1\n",
    "GitHub repository: https://github.com/llull179/Assigments_comsocsci2024.git"
   ]
  },
  {
   "cell_type": "code",
   "execution_count": 1,
   "metadata": {},
   "outputs": [],
   "source": [
    "from joblib import Parallel, delayed\n",
    "import joblib\n",
    "from joblib import Parallel, delayed\n",
    "import requests\n",
    "import pandas as pd\n",
    "from bs4 import BeautifulSoup\n",
    "import matplotlib.pyplot as plt\n",
    "import os\n",
    "import numpy as np\n",
    "import ast\n",
    "import networkx as nx"
   ]
  },
  {
   "cell_type": "code",
   "execution_count": 2,
   "metadata": {},
   "outputs": [],
   "source": [
    "def readData():\n",
    "    try:\n",
    "        authors = pd.read_csv('data/authors.csv')\n",
    "    except:\n",
    "        print('Not found authors.csv')\n",
    "        authors = None\n",
    "    try:\n",
    "        papers = pd.read_csv('data/papers_final.csv')\n",
    "    except:\n",
    "        print('Not found papers.csv')\n",
    "        papers = None\n",
    "    try:\n",
    "        abstracts = pd.read_csv('data/abstracts.csv')\n",
    "    except:\n",
    "        print('Not found abstracts.csv')\n",
    "        abstracts = None\n",
    "    return authors, papers, abstracts "
   ]
  },
  {
   "cell_type": "code",
   "execution_count": 3,
   "metadata": {},
   "outputs": [],
   "source": [
    "authors, papers, abstracts  = readData()"
   ]
  },
  {
   "cell_type": "markdown",
   "metadata": {},
   "source": [
    "## Part 1 - Obtain authors"
   ]
  },
  {
   "cell_type": "code",
   "execution_count": 4,
   "metadata": {},
   "outputs": [],
   "source": [
    "def getSoup(url, base_url = \"https://ic2s2-2023.org\"):\n",
    "    COMPLETE_LINK = base_url+url\n",
    "    r = requests.get(COMPLETE_LINK)\n",
    "    return BeautifulSoup(r.content)"
   ]
  },
  {
   "cell_type": "code",
   "execution_count": 5,
   "metadata": {},
   "outputs": [],
   "source": [
    "soup = getSoup(\"/program\")\n",
    "sect = soup.find_all(\"section\", attrs = {\"id\": \"main\"})\n",
    "authorsList = set()\n",
    "\n",
    "for sect in sect:\n",
    "    for ul in sect.find_all('ul'):\n",
    "        for li in ul.find_all('li'):\n",
    "            authors = li.find(\"i\")\n",
    "            authors = authors.text.split(\",\")\n",
    "            authors = [author.strip() for author in authors]\n",
    "            authorsList.update(authors)"
   ]
  },
  {
   "cell_type": "code",
   "execution_count": 6,
   "metadata": {},
   "outputs": [],
   "source": [
    "sect = soup.find_all(\"section\", attrs = {\"id\": \"main\"})\n",
    "for sect in sect:\n",
    "    for h2 in sect.find_all('h2'):\n",
    "        if \"Chair\" in h2.text:\n",
    "            author = h2.text.split(\"Chair:\")[1].strip()\n",
    "            authorsList.add(author)"
   ]
  },
  {
   "cell_type": "code",
   "execution_count": 7,
   "metadata": {},
   "outputs": [],
   "source": [
    "# Optional: get the program committee\n",
    "soup = getSoup(\"/program_committee\")\n",
    "sect = soup.find_all(\"section\", attrs = {\"id\": \"main\"})\n",
    "for li in sect[0].find_all('li'):\n",
    "    authors = li.find(\"b\")\n",
    "    authorsList.update(authors)\n"
   ]
  },
  {
   "cell_type": "code",
   "execution_count": 8,
   "metadata": {},
   "outputs": [],
   "source": [
    "# Optional: get the tutorials teachers\n",
    "soup = getSoup(\"/tutorials\")\n",
    "sect = soup.find_all(\"section\", attrs = {\"id\": \"highlights\"})\n",
    "sect = sect[1].find_all(\"div\",attrs = {\"class\":\"container\"})[0]\n",
    "for ul in sect.find_all('ul'):\n",
    "    for b in ul.find_all('b'):\n",
    "        for a in b.find_all('a'):\n",
    "            author = a.text    \n",
    "            authorsList.add(author)"
   ]
  },
  {
   "cell_type": "code",
   "execution_count": 9,
   "metadata": {},
   "outputs": [],
   "source": [
    "# check the accurate of name\n",
    "for i in authorsList:\n",
    "    if ' ' not in i:\n",
    "        break;\n",
    "authorsList.remove(i)\n",
    "df = pd.DataFrame(authorsList, columns =[\"Name\"] )"
   ]
  },
  {
   "cell_type": "code",
   "execution_count": 10,
   "metadata": {},
   "outputs": [],
   "source": [
    "# with open('data/authorsList.txt', 'w') as file:\n",
    "#     for author in authorsList:\n",
    "#         file.write(author + '\\\\n')\n",
    "df.to_csv('data/authorsList.txt', header = False, index = False)"
   ]
  },
  {
   "cell_type": "markdown",
   "metadata": {},
   "source": [
    "**5. How many unique researchers do you get?**"
   ]
  },
  {
   "cell_type": "code",
   "execution_count": 11,
   "metadata": {},
   "outputs": [
    {
     "name": "stdout",
     "output_type": "stream",
     "text": [
      "There is a total of 1648 researchers.\n"
     ]
    }
   ],
   "source": [
    "print(\"There is a total of\", len(authorsList), \"researchers.\")"
   ]
  },
  {
   "cell_type": "markdown",
   "metadata": {},
   "source": [
    "**6. Explain the process you followed to web-scrape the page. Which choices did you make to accurately retreive as many names as possible? Which strategies did you use to assess the quality of your final list? Explain your reasoning and your choices __(answer in max 150 words)__.**"
   ]
  },
  {
   "cell_type": "markdown",
   "metadata": {},
   "source": [
    "Considering the structure of the webpage, we scraped each page specifically containing names sepeartely, identified the distinct tags to precisely extract the researcher names, and integrated them subsequently, ensuring we could get as many names as possible. To enhance the list quality, we utilized a set to store the names and avoid the duplicates. Additionly, we check the accuracy of the collected names by confirming that each name is complete with both first and family names."
   ]
  },
  {
   "cell_type": "markdown",
   "metadata": {},
   "source": [
    "## Part 2"
   ]
  },
  {
   "cell_type": "markdown",
   "metadata": {},
   "source": [
    "**1. What are pros and cons of the custom-made data used in Centola's experiment (the first study presented in the lecture) and the ready-made data used in Nicolaides's study (the second study presented in the lecture)? You can support your arguments based on the content of the lecture and the information you read in Chapter 2.3 of the book __(answer in max 150 words)__.**"
   ]
  },
  {
   "cell_type": "markdown",
   "metadata": {},
   "source": [
    "The custom-made data can make study result more targeted and detailed since researchers can create and control the experiment process directly, and sample can be controlled, ensuring the revelent between the collected informination and analysis. However, this comes with a high cost to maintain and the sample size is limited. Additionlly, many bias such as non-response bias may arise.\n",
    "\n",
    "The ready-made data can offers a large sample size and has a time effiency based on the real world condition. But it is hard to access and researchers have limited control for the expirement degin, hence The informination may be incompleted or unrealted, and ethical and privacy issues also need to further consider."
   ]
  },
  {
   "cell_type": "markdown",
   "metadata": {},
   "source": [
    "**2. How do you think these differences can influence the interpretation of the results in each study? __(answer in max 150 words)__**"
   ]
  },
  {
   "cell_type": "markdown",
   "metadata": {},
   "source": [
    "Two types of data may introduce different bias to study results, custom-made data may influence the data collection, while the ready-made data may introduce bias to the researchers. Morever, when handling custom-data, the data limitation and robutness are need to be considered. And researchers should assess the quailty of the data, and undertake additional process to clean the data when working with ready-made data."
   ]
  },
  {
   "cell_type": "markdown",
   "metadata": {},
   "source": [
    "## Part 3 - Obtain author from OpenAlex"
   ]
  },
  {
   "cell_type": "code",
   "execution_count": 12,
   "metadata": {},
   "outputs": [],
   "source": [
    "def defineURL(type):\n",
    "    BASE_URL = 'https://api.openalex.org/'\n",
    "    return BASE_URL + type"
   ]
  },
  {
   "cell_type": "code",
   "execution_count": 13,
   "metadata": {
    "scrolled": true
   },
   "outputs": [
    {
     "name": "stdout",
     "output_type": "stream",
     "text": [
      "['Stefan Herzog', 'August Lohse', 'Luca Luceri', 'Abdullah Zameek', 'Agnieszka Falenska']\n"
     ]
    }
   ],
   "source": [
    "with open('data/authorsList.txt', 'r', encoding = 'utf-8') as file:\n",
    "    authors_list = file.read().splitlines()\n",
    "\n",
    "print(authors_list[0:5])"
   ]
  },
  {
   "cell_type": "code",
   "execution_count": 14,
   "metadata": {},
   "outputs": [
    {
     "name": "stdout",
     "output_type": "stream",
     "text": [
      "52362\n"
     ]
    }
   ],
   "source": [
    "def fetch_results_authors(initial_author):\n",
    "    URL_W = defineURL('authors')\n",
    "    selected_vars = 'id,display_name,works_count,works_api_url,summary_stats,last_known_institution'\n",
    "    i = 1\n",
    "    def_results = []\n",
    "    finish = False\n",
    "    while not finish:\n",
    "        response = requests.get(URL_W, params={'filter': 'display_name.search:(' + '|'.join(authors_list[initial_author:initial_author+20]) + ')',\n",
    "                                               'select': selected_vars, 'per-page': '200', 'page': str(i)})\n",
    "        if response.status_code != 200:\n",
    "            print('Error at page ' + str(i), 'for authors ' + str(initial_author) + ' to ' + str(initial_author+20), 'and status code ' + str(response.status_code))\n",
    "            i += 1\n",
    "        else:\n",
    "            response = response.json()\n",
    "            if len(response['results']) == 0:\n",
    "                finish = True\n",
    "                break\n",
    "            def_results += response['results']\n",
    "            i += 1\n",
    "    return def_results\n",
    "\n",
    "initial_authors_range = range(0, len(authors_list), 20)\n",
    "\n",
    "results = Parallel(n_jobs=-1)(delayed(fetch_results_authors)(initial_author) for initial_author in initial_authors_range)\n",
    "def_results_authors = [result for sublist in results for result in sublist]\n",
    "\n",
    "for resp in def_results_authors:\n",
    "    try:\n",
    "        resp['country_code'] = resp['last_known_institution']['country_code']\n",
    "    except:\n",
    "        resp['country_code'] = np.nan\n",
    "    try:\n",
    "        resp['h_index'] = resp['summary_stats']['h_index']\n",
    "    except:\n",
    "        resp['h_index'] = 0\n",
    "\n",
    "\n",
    "print(len(def_results_authors))\n"
   ]
  },
  {
   "cell_type": "code",
   "execution_count": 15,
   "metadata": {},
   "outputs": [
    {
     "data": {
      "text/html": [
       "<div>\n",
       "<style scoped>\n",
       "    .dataframe tbody tr th:only-of-type {\n",
       "        vertical-align: middle;\n",
       "    }\n",
       "\n",
       "    .dataframe tbody tr th {\n",
       "        vertical-align: top;\n",
       "    }\n",
       "\n",
       "    .dataframe thead th {\n",
       "        text-align: right;\n",
       "    }\n",
       "</style>\n",
       "<table border=\"1\" class=\"dataframe\">\n",
       "  <thead>\n",
       "    <tr style=\"text-align: right;\">\n",
       "      <th></th>\n",
       "      <th>id</th>\n",
       "      <th>display_name</th>\n",
       "      <th>works_count</th>\n",
       "      <th>works_api_url</th>\n",
       "      <th>h_index</th>\n",
       "      <th>country_code</th>\n",
       "    </tr>\n",
       "  </thead>\n",
       "  <tbody>\n",
       "    <tr>\n",
       "      <th>49168</th>\n",
       "      <td>https://openalex.org/A5049897745</td>\n",
       "      <td>Lee Edward Travis</td>\n",
       "      <td>134</td>\n",
       "      <td>https://api.openalex.org/works?filter=author.i...</td>\n",
       "      <td>18</td>\n",
       "      <td>AU</td>\n",
       "    </tr>\n",
       "    <tr>\n",
       "      <th>38282</th>\n",
       "      <td>https://openalex.org/A5039501217</td>\n",
       "      <td>Lei Li-zhang</td>\n",
       "      <td>3</td>\n",
       "      <td>https://api.openalex.org/works?filter=author.i...</td>\n",
       "      <td>0</td>\n",
       "      <td>NaN</td>\n",
       "    </tr>\n",
       "    <tr>\n",
       "      <th>29780</th>\n",
       "      <td>https://openalex.org/A5029879574</td>\n",
       "      <td>Carlos Alberto Correa-Rodríguez</td>\n",
       "      <td>1</td>\n",
       "      <td>https://api.openalex.org/works?filter=author.i...</td>\n",
       "      <td>0</td>\n",
       "      <td>NaN</td>\n",
       "    </tr>\n",
       "    <tr>\n",
       "      <th>33887</th>\n",
       "      <td>https://openalex.org/A5042554611</td>\n",
       "      <td>Yü-tʿang Chao</td>\n",
       "      <td>2</td>\n",
       "      <td>https://api.openalex.org/works?filter=author.i...</td>\n",
       "      <td>1</td>\n",
       "      <td>NaN</td>\n",
       "    </tr>\n",
       "    <tr>\n",
       "      <th>26076</th>\n",
       "      <td>https://openalex.org/A5067749148</td>\n",
       "      <td>Hui Wang</td>\n",
       "      <td>1</td>\n",
       "      <td>https://api.openalex.org/works?filter=author.i...</td>\n",
       "      <td>0</td>\n",
       "      <td>CN</td>\n",
       "    </tr>\n",
       "    <tr>\n",
       "      <th>46724</th>\n",
       "      <td>https://openalex.org/A5043231632</td>\n",
       "      <td>XU Zhen CHE Yao</td>\n",
       "      <td>1</td>\n",
       "      <td>https://api.openalex.org/works?filter=author.i...</td>\n",
       "      <td>0</td>\n",
       "      <td>CN</td>\n",
       "    </tr>\n",
       "    <tr>\n",
       "      <th>8312</th>\n",
       "      <td>https://openalex.org/A5062912882</td>\n",
       "      <td>Marcos Vinícius de Oliveira Martins</td>\n",
       "      <td>1</td>\n",
       "      <td>https://api.openalex.org/works?filter=author.i...</td>\n",
       "      <td>1</td>\n",
       "      <td>BR</td>\n",
       "    </tr>\n",
       "    <tr>\n",
       "      <th>47809</th>\n",
       "      <td>https://openalex.org/A5019412803</td>\n",
       "      <td>Shi Yuan-zhang</td>\n",
       "      <td>1</td>\n",
       "      <td>https://api.openalex.org/works?filter=author.i...</td>\n",
       "      <td>0</td>\n",
       "      <td>CN</td>\n",
       "    </tr>\n",
       "    <tr>\n",
       "      <th>17785</th>\n",
       "      <td>https://openalex.org/A5036074401</td>\n",
       "      <td>Antônio Guilherme Garcia Lima</td>\n",
       "      <td>4</td>\n",
       "      <td>https://api.openalex.org/works?filter=author.i...</td>\n",
       "      <td>1</td>\n",
       "      <td>BR</td>\n",
       "    </tr>\n",
       "    <tr>\n",
       "      <th>24449</th>\n",
       "      <td>https://openalex.org/A5041014218</td>\n",
       "      <td>Hsin-Hui Wang</td>\n",
       "      <td>95</td>\n",
       "      <td>https://api.openalex.org/works?filter=author.i...</td>\n",
       "      <td>16</td>\n",
       "      <td>TW</td>\n",
       "    </tr>\n",
       "  </tbody>\n",
       "</table>\n",
       "</div>"
      ],
      "text/plain": [
       "                                     id                         display_name  \\\n",
       "49168  https://openalex.org/A5049897745                    Lee Edward Travis   \n",
       "38282  https://openalex.org/A5039501217                         Lei Li-zhang   \n",
       "29780  https://openalex.org/A5029879574      Carlos Alberto Correa-Rodríguez   \n",
       "33887  https://openalex.org/A5042554611                        Yü-tʿang Chao   \n",
       "26076  https://openalex.org/A5067749148                             Hui Wang   \n",
       "46724  https://openalex.org/A5043231632                      XU Zhen CHE Yao   \n",
       "8312   https://openalex.org/A5062912882  Marcos Vinícius de Oliveira Martins   \n",
       "47809  https://openalex.org/A5019412803                       Shi Yuan-zhang   \n",
       "17785  https://openalex.org/A5036074401        Antônio Guilherme Garcia Lima   \n",
       "24449  https://openalex.org/A5041014218                        Hsin-Hui Wang   \n",
       "\n",
       "       works_count                                      works_api_url  \\\n",
       "49168          134  https://api.openalex.org/works?filter=author.i...   \n",
       "38282            3  https://api.openalex.org/works?filter=author.i...   \n",
       "29780            1  https://api.openalex.org/works?filter=author.i...   \n",
       "33887            2  https://api.openalex.org/works?filter=author.i...   \n",
       "26076            1  https://api.openalex.org/works?filter=author.i...   \n",
       "46724            1  https://api.openalex.org/works?filter=author.i...   \n",
       "8312             1  https://api.openalex.org/works?filter=author.i...   \n",
       "47809            1  https://api.openalex.org/works?filter=author.i...   \n",
       "17785            4  https://api.openalex.org/works?filter=author.i...   \n",
       "24449           95  https://api.openalex.org/works?filter=author.i...   \n",
       "\n",
       "       h_index country_code  \n",
       "49168       18           AU  \n",
       "38282        0          NaN  \n",
       "29780        0          NaN  \n",
       "33887        1          NaN  \n",
       "26076        0           CN  \n",
       "46724        0           CN  \n",
       "8312         1           BR  \n",
       "47809        0           CN  \n",
       "17785        1           BR  \n",
       "24449       16           TW  "
      ]
     },
     "execution_count": 15,
     "metadata": {},
     "output_type": "execute_result"
    }
   ],
   "source": [
    "authors = pd.DataFrame(def_results_authors, columns = ['id', 'display_name', 'works_count', 'works_api_url','h_index','country_code'])\n",
    "authors.sample(10)"
   ]
  },
  {
   "cell_type": "markdown",
   "metadata": {},
   "source": [
    "#### Let's delte repited authors\n",
    "- We first delete all the repited id. (Not necessary any ordering because all the rows are exactly the same)\n",
    "- Later we delete all the repited display_name. (We order by h_index and delete the lowest one)"
   ]
  },
  {
   "cell_type": "code",
   "execution_count": 16,
   "metadata": {},
   "outputs": [],
   "source": [
    "authors = authors.drop_duplicates(subset = 'id')"
   ]
  },
  {
   "cell_type": "code",
   "execution_count": 17,
   "metadata": {},
   "outputs": [
    {
     "data": {
      "text/html": [
       "<div>\n",
       "<style scoped>\n",
       "    .dataframe tbody tr th:only-of-type {\n",
       "        vertical-align: middle;\n",
       "    }\n",
       "\n",
       "    .dataframe tbody tr th {\n",
       "        vertical-align: top;\n",
       "    }\n",
       "\n",
       "    .dataframe thead th {\n",
       "        text-align: right;\n",
       "    }\n",
       "</style>\n",
       "<table border=\"1\" class=\"dataframe\">\n",
       "  <thead>\n",
       "    <tr style=\"text-align: right;\">\n",
       "      <th></th>\n",
       "      <th>id</th>\n",
       "      <th>display_name</th>\n",
       "      <th>works_count</th>\n",
       "      <th>works_api_url</th>\n",
       "      <th>h_index</th>\n",
       "      <th>country_code</th>\n",
       "    </tr>\n",
       "  </thead>\n",
       "  <tbody>\n",
       "    <tr>\n",
       "      <th>49571</th>\n",
       "      <td>https://openalex.org/A5035872740</td>\n",
       "      <td>A Lee Edward</td>\n",
       "      <td>3</td>\n",
       "      <td>https://api.openalex.org/works?filter=author.i...</td>\n",
       "      <td>0</td>\n",
       "      <td>NaN</td>\n",
       "    </tr>\n",
       "    <tr>\n",
       "      <th>49563</th>\n",
       "      <td>https://openalex.org/A5085785026</td>\n",
       "      <td>A Lee Edward</td>\n",
       "      <td>1</td>\n",
       "      <td>https://api.openalex.org/works?filter=author.i...</td>\n",
       "      <td>0</td>\n",
       "      <td>NaN</td>\n",
       "    </tr>\n",
       "    <tr>\n",
       "      <th>292</th>\n",
       "      <td>https://openalex.org/A5040705130</td>\n",
       "      <td>A.-M. Cohen-Jonathan</td>\n",
       "      <td>2</td>\n",
       "      <td>https://api.openalex.org/works?filter=author.i...</td>\n",
       "      <td>2</td>\n",
       "      <td>FR</td>\n",
       "    </tr>\n",
       "    <tr>\n",
       "      <th>363</th>\n",
       "      <td>https://openalex.org/A5070416321</td>\n",
       "      <td>A.-M. Cohen-Jonathan</td>\n",
       "      <td>1</td>\n",
       "      <td>https://api.openalex.org/works?filter=author.i...</td>\n",
       "      <td>0</td>\n",
       "      <td>NaN</td>\n",
       "    </tr>\n",
       "    <tr>\n",
       "      <th>30750</th>\n",
       "      <td>https://openalex.org/A5065690741</td>\n",
       "      <td>AI Xue-lin</td>\n",
       "      <td>1</td>\n",
       "      <td>https://api.openalex.org/works?filter=author.i...</td>\n",
       "      <td>0</td>\n",
       "      <td>NaN</td>\n",
       "    </tr>\n",
       "    <tr>\n",
       "      <th>30805</th>\n",
       "      <td>https://openalex.org/A5014271391</td>\n",
       "      <td>AI Xue-lin</td>\n",
       "      <td>1</td>\n",
       "      <td>https://api.openalex.org/works?filter=author.i...</td>\n",
       "      <td>0</td>\n",
       "      <td>NaN</td>\n",
       "    </tr>\n",
       "  </tbody>\n",
       "</table>\n",
       "</div>"
      ],
      "text/plain": [
       "                                     id          display_name  works_count  \\\n",
       "49571  https://openalex.org/A5035872740          A Lee Edward            3   \n",
       "49563  https://openalex.org/A5085785026          A Lee Edward            1   \n",
       "292    https://openalex.org/A5040705130  A.-M. Cohen-Jonathan            2   \n",
       "363    https://openalex.org/A5070416321  A.-M. Cohen-Jonathan            1   \n",
       "30750  https://openalex.org/A5065690741            AI Xue-lin            1   \n",
       "30805  https://openalex.org/A5014271391            AI Xue-lin            1   \n",
       "\n",
       "                                           works_api_url  h_index country_code  \n",
       "49571  https://api.openalex.org/works?filter=author.i...        0          NaN  \n",
       "49563  https://api.openalex.org/works?filter=author.i...        0          NaN  \n",
       "292    https://api.openalex.org/works?filter=author.i...        2           FR  \n",
       "363    https://api.openalex.org/works?filter=author.i...        0          NaN  \n",
       "30750  https://api.openalex.org/works?filter=author.i...        0          NaN  \n",
       "30805  https://api.openalex.org/works?filter=author.i...        0          NaN  "
      ]
     },
     "execution_count": 17,
     "metadata": {},
     "output_type": "execute_result"
    }
   ],
   "source": [
    "authors[authors.display_name.duplicated(keep=False)].sort_values(by='display_name').head(6)"
   ]
  },
  {
   "cell_type": "code",
   "execution_count": 18,
   "metadata": {},
   "outputs": [],
   "source": [
    "authors = authors.sort_values(by='h_index', ascending=False).drop_duplicates(subset ='display_name',keep='first')"
   ]
  },
  {
   "cell_type": "code",
   "execution_count": 19,
   "metadata": {},
   "outputs": [],
   "source": [
    "strange_carachters = ['\\*','&','%','\\[','\\]','\\{','\\}','<','>','\\/','@','\\^','~','`',':',';','\\.','\\!','\\?','\"','#','\\$','\\=','\\+']\n",
    "numbers = ['0','1','2','3','4','5','6','7','8','9']\n",
    "for char in strange_carachters+numbers:\n",
    "    # print(char, authors_cop.shape[0])\n",
    "    authors = authors[~authors['display_name'].str.contains(char)]\n"
   ]
  },
  {
   "cell_type": "code",
   "execution_count": 20,
   "metadata": {},
   "outputs": [
    {
     "data": {
      "text/html": [
       "<div>\n",
       "<style scoped>\n",
       "    .dataframe tbody tr th:only-of-type {\n",
       "        vertical-align: middle;\n",
       "    }\n",
       "\n",
       "    .dataframe tbody tr th {\n",
       "        vertical-align: top;\n",
       "    }\n",
       "\n",
       "    .dataframe thead th {\n",
       "        text-align: right;\n",
       "    }\n",
       "</style>\n",
       "<table border=\"1\" class=\"dataframe\">\n",
       "  <thead>\n",
       "    <tr style=\"text-align: right;\">\n",
       "      <th></th>\n",
       "      <th>id</th>\n",
       "      <th>display_name</th>\n",
       "      <th>works_count</th>\n",
       "      <th>works_api_url</th>\n",
       "      <th>h_index</th>\n",
       "      <th>country_code</th>\n",
       "    </tr>\n",
       "  </thead>\n",
       "  <tbody>\n",
       "    <tr>\n",
       "      <th>7344</th>\n",
       "      <td>https://openalex.org/A5042891520</td>\n",
       "      <td>- Yan Ruth Xia</td>\n",
       "      <td>1</td>\n",
       "      <td>https://api.openalex.org/works?filter=author.i...</td>\n",
       "      <td>0</td>\n",
       "      <td>NaN</td>\n",
       "    </tr>\n",
       "    <tr>\n",
       "      <th>48321</th>\n",
       "      <td>https://openalex.org/A5028364512</td>\n",
       "      <td>-ZHANG-Gong YUAN-Jingyi</td>\n",
       "      <td>1</td>\n",
       "      <td>https://api.openalex.org/works?filter=author.i...</td>\n",
       "      <td>0</td>\n",
       "      <td>NaN</td>\n",
       "    </tr>\n",
       "    <tr>\n",
       "      <th>26364</th>\n",
       "      <td>https://openalex.org/A5053443984</td>\n",
       "      <td>-ZHANG-Rong LI-Hui WANG-Zhennan</td>\n",
       "      <td>1</td>\n",
       "      <td>https://api.openalex.org/works?filter=author.i...</td>\n",
       "      <td>0</td>\n",
       "      <td>NaN</td>\n",
       "    </tr>\n",
       "    <tr>\n",
       "      <th>31739</th>\n",
       "      <td>https://openalex.org/A5037240871</td>\n",
       "      <td>A Ba Bai Ke Li</td>\n",
       "      <td>1</td>\n",
       "      <td>https://api.openalex.org/works?filter=author.i...</td>\n",
       "      <td>1</td>\n",
       "      <td>NaN</td>\n",
       "    </tr>\n",
       "    <tr>\n",
       "      <th>36413</th>\n",
       "      <td>https://openalex.org/A5059360190</td>\n",
       "      <td>A Brown Taylor</td>\n",
       "      <td>3</td>\n",
       "      <td>https://api.openalex.org/works?filter=author.i...</td>\n",
       "      <td>0</td>\n",
       "      <td>NaN</td>\n",
       "    </tr>\n",
       "  </tbody>\n",
       "</table>\n",
       "</div>"
      ],
      "text/plain": [
       "                                     id                     display_name  \\\n",
       "7344   https://openalex.org/A5042891520                   - Yan Ruth Xia   \n",
       "48321  https://openalex.org/A5028364512          -ZHANG-Gong YUAN-Jingyi   \n",
       "26364  https://openalex.org/A5053443984  -ZHANG-Rong LI-Hui WANG-Zhennan   \n",
       "31739  https://openalex.org/A5037240871                   A Ba Bai Ke Li   \n",
       "36413  https://openalex.org/A5059360190                   A Brown Taylor   \n",
       "\n",
       "       works_count                                      works_api_url  \\\n",
       "7344             1  https://api.openalex.org/works?filter=author.i...   \n",
       "48321            1  https://api.openalex.org/works?filter=author.i...   \n",
       "26364            1  https://api.openalex.org/works?filter=author.i...   \n",
       "31739            1  https://api.openalex.org/works?filter=author.i...   \n",
       "36413            3  https://api.openalex.org/works?filter=author.i...   \n",
       "\n",
       "       h_index country_code  \n",
       "7344         0          NaN  \n",
       "48321        0          NaN  \n",
       "26364        0          NaN  \n",
       "31739        1          NaN  \n",
       "36413        0          NaN  "
      ]
     },
     "execution_count": 20,
     "metadata": {},
     "output_type": "execute_result"
    }
   ],
   "source": [
    "authors.sort_values(by='display_name').head(5)"
   ]
  },
  {
   "cell_type": "code",
   "execution_count": 21,
   "metadata": {},
   "outputs": [],
   "source": [
    "authors.to_csv('data/authors.csv', index=False)"
   ]
  },
  {
   "cell_type": "markdown",
   "metadata": {},
   "source": [
    "# Week 3 - Searching works"
   ]
  },
  {
   "cell_type": "code",
   "execution_count": 22,
   "metadata": {},
   "outputs": [
    {
     "name": "stdout",
     "output_type": "stream",
     "text": [
      "(38601, 6)\n"
     ]
    }
   ],
   "source": [
    "authors = pd.read_csv('data/authors.csv')\n",
    "print(authors.shape)"
   ]
  },
  {
   "cell_type": "code",
   "execution_count": 23,
   "metadata": {},
   "outputs": [
    {
     "name": "stdout",
     "output_type": "stream",
     "text": [
      "There are 5976 authors with more than 5 works and less than 5000\n"
     ]
    }
   ],
   "source": [
    "# Get only those authors with more than 5 works and less than 5000\n",
    "id_list = authors[(authors['works_count'] > 5)  & (authors['works_count']<5000)]['id'].tolist()\n",
    "print(\"There are\", len(id_list), \"authors with more than 5 works and less than 5000\")"
   ]
  },
  {
   "cell_type": "code",
   "execution_count": 24,
   "metadata": {},
   "outputs": [],
   "source": [
    "URL_W = defineURL('works')\n",
    "selected_vars = 'id,title,topics'\n",
    "\n",
    "response = requests.get(URL_W, params={ 'select': selected_vars, 'per-page': '200', 'page': str(1)})"
   ]
  },
  {
   "cell_type": "code",
   "execution_count": 25,
   "metadata": {},
   "outputs": [],
   "source": [
    "# response.json()['results']"
   ]
  },
  {
   "cell_type": "code",
   "execution_count": 26,
   "metadata": {},
   "outputs": [],
   "source": [
    "th = []\n",
    "for i in response.json()['results']:\n",
    "    for j in i['topics']:\n",
    "        th.append(j['field']['display_name'])"
   ]
  },
  {
   "cell_type": "code",
   "execution_count": 27,
   "metadata": {},
   "outputs": [],
   "source": [
    "from joblib import Parallel, delayed\n",
    "# Define a function to fetch results for a given range of initial authors\n",
    "def fetch_results(initial_author):\n",
    "    URL_W = defineURL('works')\n",
    "    selected_vars = 'id,publication_year,cited_by_count,title,abstract_inverted_index,authorships,topics'\n",
    "    i = 1\n",
    "    def_results = []\n",
    "    finish = False\n",
    "    while not finish:\n",
    "        response = requests.get(URL_W, params={'filter': 'authorships.author.id:(' + '|'.join(id_list[initial_author:initial_author+20]) \n",
    "                                               + '),cited_by_count:>10,authors_count:<10',\n",
    "                                               'select': selected_vars, 'per-page': '200', 'page': str(i)})\n",
    "        if response.status_code != 200:\n",
    "            print('Error at page ' + str(i), 'for authors ' + str(initial_author) + ' to ' + str(initial_author+20), 'and status code ' + str(response.status_code))\n",
    "            i += 1\n",
    "        else:\n",
    "            response = response.json()\n",
    "            if len(response['results']) == 0:\n",
    "                finish = True\n",
    "                break\n",
    "            def_results += response['results']\n",
    "            i += 1\n",
    "    return def_results\n",
    "\n",
    "# Define the range of initial authors\n",
    "initial_authors_range = range(0, len(id_list), 20)\n",
    "\n",
    "# Parallelize the loop using joblib\n",
    "results = Parallel(n_jobs=-1)(delayed(fetch_results)(initial_author) for initial_author in initial_authors_range)\n",
    "\n",
    "# Flatten the results list\n",
    "def_results_works = [result for sublist in results for result in sublist]"
   ]
  },
  {
   "cell_type": "code",
   "execution_count": 28,
   "metadata": {},
   "outputs": [],
   "source": [
    "for resp in def_results_works:\n",
    "    resp['author_id'] = [author['author']['id'] for author in resp['authorships']]\n",
    "    try:\n",
    "        resp['themes'] = [resp['topics'][topic]['field']['display_name'] for topic in range(len(resp['topics']))]\n",
    "    except:\n",
    "        resp['themes'] = []\n",
    "    # del resp['authorships']\n",
    "    # del resp['topics']\n",
    "\n",
    "# print('Total of works:', len(def_results_works))"
   ]
  },
  {
   "cell_type": "code",
   "execution_count": 29,
   "metadata": {},
   "outputs": [],
   "source": [
    "papers = pd.DataFrame(def_results_works, columns = ['id','publication_year','author_id','cited_by_count','title','themes'])\n",
    "abstracts = pd.DataFrame(def_results_works, columns = ['id','abstract_inverted_index'])"
   ]
  },
  {
   "cell_type": "code",
   "execution_count": 30,
   "metadata": {},
   "outputs": [],
   "source": [
    "papers = papers.drop_duplicates(subset='id')\n",
    "compSoc = [\"Sociology\", \"Psychology\", \"Economics\",\"Economics, Econometrics and Finance\", \"Political Science\", \"Scoial Sciences\"]\n",
    "quanDisc = [\"Mathematics\", \"Physics and Astronomy\", \"Computer Science\",\"Physics\"]\n",
    "papers['toGet'] = papers['themes'].apply(lambda x:  any(elem in x for elem in compSoc) and any(elem in x for elem in quanDisc))"
   ]
  },
  {
   "cell_type": "code",
   "execution_count": 31,
   "metadata": {},
   "outputs": [],
   "source": [
    "# We delete all the works that are not releted with the asked themes\n",
    "papers_final = papers.copy()\n",
    "papers_final = papers_final[papers['toGet']]\n",
    "papers_final.drop(columns=['toGet'], inplace=True)\n",
    "papers.drop(columns=['toGet'], inplace=True)"
   ]
  },
  {
   "cell_type": "code",
   "execution_count": 32,
   "metadata": {},
   "outputs": [],
   "source": [
    "papers.to_csv('data/papers.csv', index = False)\n",
    "papers_final.to_csv('data/papers_final.csv', index = False)\n",
    "abstracts.to_csv('data/abstracts.csv', index = False)"
   ]
  },
  {
   "cell_type": "markdown",
   "metadata": {},
   "source": [
    "**Dataset summary.- How many works are listed in your *IC2S2 papers* dataframe? How many unique researchers have co-authored these works?**"
   ]
  },
  {
   "cell_type": "code",
   "execution_count": 33,
   "metadata": {},
   "outputs": [
    {
     "name": "stdout",
     "output_type": "stream",
     "text": [
      "There are 1088  works listed in IC2S2 papers.\n"
     ]
    }
   ],
   "source": [
    "print('There are', len(papers_final), ' works listed in IC2S2 papers.')"
   ]
  },
  {
   "cell_type": "markdown",
   "metadata": {},
   "source": [
    "**Efficiency in code.- Describe the strategies you implemented to make your code more efficient. How did your approach affect your code's execution time?** __(answer in max 150 words)__\n"
   ]
  },
  {
   "cell_type": "markdown",
   "metadata": {},
   "source": [
    "We implemented the parallel function to enabled the concurrent execution of requests to reduce the workloads and set the page limitition to obtain more works in per request. Additionally, we used filter parameters, querying multiple works in one request, which all improve the execution time significantly."
   ]
  },
  {
   "cell_type": "markdown",
   "metadata": {},
   "source": [
    "**Filtering Criteria and Dataset Relevance- Reflect on the rationale behind setting specific thresholds for the total number of works by an author, the citation count, the number of authors per work, and the relevance of works to specific fields. How do these filtering criteria contribute to the relevance of the dataset you compiled? Do you believe any aspects of Computational Social Science research might be underrepresented or overrepresented as a result of these choices? __(answer in max 150 words)__**"
   ]
  },
  {
   "cell_type": "markdown",
   "metadata": {},
   "source": [
    "We specified these filtering criteria to enhance the refine the data, prioritizing the relevance and accuracy. Restricting the total number of works of the author can capture the authors properly, the works attributions such as citation counts and the number of authors per work can ensure the overall quality and completeness of the seected works. The research may be underrepresented or overrepresented, since if the thresholds are set so strict, some relevant variables might be ignored and potentially infulence the result, while if the thresholds are very low, many unrelated variables will be included, whcih may lead a reduction in the precision of the results."
   ]
  },
  {
   "cell_type": "markdown",
   "metadata": {},
   "source": [
    "---\n",
    "\n",
    "## Part 4"
   ]
  },
  {
   "cell_type": "code",
   "execution_count": 34,
   "metadata": {},
   "outputs": [],
   "source": [
    "authors, papers, abstracts = readData()"
   ]
  },
  {
   "cell_type": "markdown",
   "metadata": {},
   "source": [
    "### INCLUDE HISTOGRAMS"
   ]
  },
  {
   "cell_type": "code",
   "execution_count": 35,
   "metadata": {},
   "outputs": [],
   "source": [
    "papers['author_id'] = papers['author_id'].apply(lambda x: ast.literal_eval(x))"
   ]
  },
  {
   "cell_type": "code",
   "execution_count": 36,
   "metadata": {},
   "outputs": [
    {
     "name": "stdout",
     "output_type": "stream",
     "text": [
      "[('https://openalex.org/A5060484910', 'https://openalex.org/A5076683363', 5), ('https://openalex.org/A5064926593', 'https://openalex.org/A5076683363', 7), ('https://openalex.org/A5020078340', 'https://openalex.org/A5076683363', 3), ('https://openalex.org/A5029100305', 'https://openalex.org/A5076683363', 10), ('https://openalex.org/A5060484910', 'https://openalex.org/A5064926593', 5)]\n"
     ]
    }
   ],
   "source": [
    "weighted_edgelist = {}\n",
    "\n",
    "for author in papers['author_id']:\n",
    "    for i in range(len(author)):\n",
    "        for j in range(i+1, len(author)):\n",
    "            pair = tuple(sorted([author[i], author[j]]))\n",
    "            if pair in weighted_edgelist:\n",
    "                weighted_edgelist[pair] += 1\n",
    "            else:\n",
    "                weighted_edgelist[pair] = 1\n",
    "\n",
    "weighted_edgelist = [(pair[0], pair[1], count) for pair, count in weighted_edgelist.items()]\n",
    "print(weighted_edgelist[0:5])"
   ]
  },
  {
   "cell_type": "code",
   "execution_count": 37,
   "metadata": {},
   "outputs": [],
   "source": [
    "G = nx.Graph()\n",
    "G.add_weighted_edges_from(weighted_edgelist)\n"
   ]
  },
  {
   "cell_type": "code",
   "execution_count": 38,
   "metadata": {},
   "outputs": [
    {
     "data": {
      "text/plain": [
       "6    Jon Kleinberg\n",
       "Name: display_name, dtype: object"
      ]
     },
     "execution_count": 38,
     "metadata": {},
     "output_type": "execute_result"
    }
   ],
   "source": [
    "authors.loc[authors['id'] == \"https://openalex.org/A5055710645\", 'display_name']"
   ]
  },
  {
   "cell_type": "code",
   "execution_count": 39,
   "metadata": {},
   "outputs": [
    {
     "name": "stdout",
     "output_type": "stream",
     "text": [
      "https://openalex.org/A5060484910\n",
      "Series([], Name: display_name, dtype: object)\n"
     ]
    }
   ],
   "source": [
    "for node in G.nodes():\n",
    "    print(node)\n",
    "    print(authors.loc[authors['id'] == str(node), 'display_name'])\n",
    "    break"
   ]
  },
  {
   "cell_type": "code",
   "execution_count": 40,
   "metadata": {},
   "outputs": [],
   "source": [
    "for node in G.nodes():\n",
    "    # Retrieve the author's display name, country, citation count, and year of first publication\n",
    "    display_name = authors.loc[authors['id'] == node, 'display_name']\n",
    "    country = authors.loc[authors['id'] == node, 'country_code']\n",
    "    citation_count = authors.loc[authors['id'] == node, 'works_count']\n",
    "    # first_publication_year = papers.loc[papers['author_id'].apply(lambda x: node in ast.literal_eval(x)), 'publication_year'].min()\n",
    "    \n",
    "    # Add the attributes to the node\n",
    "    G.nodes[node]['display_name'] = display_name\n",
    "    G.nodes[node]['country'] = country\n",
    "    G.nodes[node]['citation_count'] = citation_count\n",
    "    # G.nodes[node]['first_publication_year'] = first_publication_year\n",
    "\n",
    "# Save the network as a JSON file\n",
    "nx.write_adjlist(G, './data/network.json')\n"
   ]
  },
  {
   "cell_type": "markdown",
   "metadata": {},
   "source": [
    "1. **Network Metrics:**0 words)__\r\n",
    "# "
   ]
  },
  {
   "cell_type": "markdown",
   "metadata": {},
   "source": [
    "- What is the total number of nodes (authors) and links (collaborations) in the network?"
   ]
  },
  {
   "cell_type": "code",
   "execution_count": 44,
   "metadata": {},
   "outputs": [
    {
     "name": "stdout",
     "output_type": "stream",
     "text": [
      "total number of nodes: 2382\n",
      "total number of links: 6219\n"
     ]
    }
   ],
   "source": [
    "print(\"total number of nodes:\",G.number_of_nodes())\n",
    "print(\"total number of links:\",G.number_of_edges())"
   ]
  },
  {
   "cell_type": "markdown",
   "metadata": {},
   "source": [
    "- Calculate the network's density (the ratio of actual links to the maximum possible number of links). Would you say that the network is sparse? Justify your answer."
   ]
  },
  {
   "cell_type": "code",
   "execution_count": 45,
   "metadata": {},
   "outputs": [
    {
     "name": "stdout",
     "output_type": "stream",
     "text": [
      "network's density: 0.002193054375688305\n"
     ]
    }
   ],
   "source": [
    "print(\"network's density:\",nx.density(G))"
   ]
  },
  {
   "cell_type": "markdown",
   "metadata": {},
   "source": [
    "The density is approximately 0.0022, close to 0, hence the network is sparse."
   ]
  },
  {
   "cell_type": "markdown",
   "metadata": {},
   "source": [
    "The density is approximately 0.0022, close to 0, hence the network is sparse."
   ]
  },
  {
   "cell_type": "markdown",
   "metadata": {},
   "source": [
    "- Is the network fully connected (i.e., is there a direct or indirect path between every pair of nodes within the network), or is it disconnected?"
   ]
  },
  {
   "cell_type": "code",
   "execution_count": 49,
   "metadata": {},
   "outputs": [
    {
     "name": "stdout",
     "output_type": "stream",
     "text": [
      "The network is disconnected.\n"
     ]
    }
   ],
   "source": [
    "if nx.is_connected(G) == \"True\":\n",
    "    print(\"The network fully connected.\")\n",
    "else:\n",
    "    print(\"The network is disconnected.\")"
   ]
  },
  {
   "cell_type": "markdown",
   "metadata": {},
   "source": [
    "- If the network is disconnected, how many connected components does it have? A connected component is defined as a subset of nodes within the network where a path exists between any pair of nodes in that subset."
   ]
  },
  {
   "cell_type": "code",
   "execution_count": 58,
   "metadata": {},
   "outputs": [
    {
     "name": "stdout",
     "output_type": "stream",
     "text": [
      "it have 198 connected components\n"
     ]
    }
   ],
   "source": [
    "components = list(nx.connected_components(G))\n",
    "print(\"it have\",len(components),\"connected components\")"
   ]
  },
  {
   "cell_type": "markdown",
   "metadata": {},
   "source": [
    "- How many isolated nodes are there in your network?  An isolated node is defined as a node with no connections to any other node in the network."
   ]
  },
  {
   "cell_type": "code",
   "execution_count": 73,
   "metadata": {},
   "outputs": [
    {
     "name": "stdout",
     "output_type": "stream",
     "text": [
      "There are 0 isolated nodes\n"
     ]
    }
   ],
   "source": [
    "length = 0\n",
    "for n in G.nodes():\n",
    "    if G.degree(n) == 0:\n",
    "        length+=1\n",
    "print(\"There are\", length, \"isolated nodes\")"
   ]
  },
  {
   "cell_type": "markdown",
   "metadata": {},
   "source": [
    "- Discuss the results above on network density, and connectivity. Are your findings in line with what you expected? Why?  __(answer in max 150 words)__"
   ]
  },
  {
   "cell_type": "markdown",
   "metadata": {},
   "source": []
  },
  {
   "cell_type": "markdown",
   "metadata": {},
   "source": [
    "2. **Degree Analysis:**\n",
    "- Compute the average, median, mode, minimum, and maximum degree of the nodes. Perform the same analysis for node strength (weighted degree). What do these metrics tell us about the network? __(answer in max 150 words)__"
   ]
  },
  {
   "cell_type": "code",
   "execution_count": 77,
   "metadata": {},
   "outputs": [
    {
     "name": "stdout",
     "output_type": "stream",
     "text": [
      "average of degree: 5.221662468513854\n",
      "median of degree: 4.0\n",
      "minimum of degree: 1\n",
      "maximum of degree: 66\n",
      "average of weighted degree: 5.221662468513854\n",
      "median of weighted degree: 4.0\n",
      "minimum of weighted degree: 1\n",
      "maximum of weighted degree: 66\n"
     ]
    }
   ],
   "source": [
    "degree = dict(G.degree())\n",
    "print(\"average of degree:\", np.mean(list(degree.values())))\n",
    "print(\"median of degree:\", np.median(list(degree.values())))\n",
    "# print(\"mode of degree:\", np.median(list(degree.values())))\\\n",
    "print(\"minimum of degree:\", min(list(degree.values())))\n",
    "print(\"maximum of degree:\", max(list(degree.values())))\n",
    "weighted_degree = dict(G.degree(weight = 'citation_count'))\n",
    "print(\"average of weighted degree:\", np.mean(list(weighted_degree.values())))\n",
    "print(\"median of weighted degree:\", np.median(list(weighted_degree.values())))\n",
    "print(\"minimum of weighted degree:\", min(list(weighted_degree.values())))\n",
    "print(\"maximum of weighted degree:\", max(list(weighted_degree.values())))\n"
   ]
  },
  {
   "cell_type": "markdown",
   "metadata": {},
   "source": []
  },
  {
   "cell_type": "markdown",
   "metadata": {},
   "source": [
    "3. **Top Authors:**\n",
    "- Identify the top 5 authors by degree. What role do these node play in the network? \n",
    "- Research these authors online. What areas do they specialize in? Do you think that their work aligns with the themes of Computational Social Science? If not, what could be possible reasons? __(answer in max 150 words)__"
   ]
  },
  {
   "cell_type": "code",
   "execution_count": null,
   "metadata": {},
   "outputs": [],
   "source": []
  }
 ],
 "metadata": {
  "kernelspec": {
   "display_name": "Python 3 (ipykernel)",
   "language": "python",
   "name": "python3"
  },
  "language_info": {
   "codemirror_mode": {
    "name": "ipython",
    "version": 3
   },
   "file_extension": ".py",
   "mimetype": "text/x-python",
   "name": "python",
   "nbconvert_exporter": "python",
   "pygments_lexer": "ipython3",
   "version": "3.10.13"
  }
 },
 "nbformat": 4,
 "nbformat_minor": 4
}
